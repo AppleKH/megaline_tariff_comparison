{
 "cells": [
  {
   "cell_type": "markdown",
   "id": "b710a462",
   "metadata": {},
   "source": [
    "# Проект: Определение перспективного тарифа для телеком-компании"
   ]
  },
  {
   "cell_type": "markdown",
   "id": "15e56fd2",
   "metadata": {},
   "source": [
    "**Описание проекта**\n",
    "\n",
    "Вы аналитик компании «Мегалайн» — федерального оператора сотовой связи. Клиентам предлагают два тарифных плана: «Смарт» и «Ультра». Чтобы скорректировать рекламный бюджет, коммерческий департамент хочет понять, какой тариф приносит больше денег.\n",
    "\n",
    "Вам предстоит сделать предварительный анализ тарифов на небольшой выборке клиентов. В вашем распоряжении данные 500 пользователей «Мегалайна»: кто они, откуда, каким тарифом пользуются, сколько звонков и сообщений каждый отправил за 2018 год. Нужно проанализировать поведение клиентов и сделать вывод — какой тариф лучше."
   ]
  },
  {
   "cell_type": "markdown",
   "id": "90ff9852",
   "metadata": {},
   "source": [
    "**Описание тарифов**\n",
    "\n",
    "*Тариф «Смарт»*\n",
    "1. Ежемесячная плата: 550 рублей\n",
    "2. Включено 500 минут разговора, 50 сообщений и 15 Гб интернет-трафика\n",
    "3. Стоимость услуг сверх тарифного пакета: 1. минута разговора: 3 рубля («Мегалайн» всегда округляет вверх значения минут и мегабайтов. Если пользователь проговорил всего 1 секунду, в тарифе засчитывается целая минута); 2. сообщение: 3 рубля; 3. 1 Гб интернет-трафика: 200 рублей.\n",
    "\n",
    "*Тариф «Ультра»*\n",
    "1. Ежемесячная плата: 1950 рублей\n",
    "2. Включено 3000 минут разговора, 1000 сообщений и 30 Гб интернет-трафика\n",
    "3. Стоимость услуг сверх тарифного пакета: 1. минута разговора: 1 рубль; 2. сообщение: 1 рубль; 3. 1 Гб интернет-трафика: 150 рублей."
   ]
  },
  {
   "cell_type": "markdown",
   "id": "8bc912b6",
   "metadata": {},
   "source": [
    "**Примечание:**\n",
    "\n",
    "«Мегалайн» всегда округляет секунды до минут, а мегабайты — до гигабайт. Каждый звонок округляется отдельно: даже если он длился всего 1 секунду, будет засчитан как 1 минута.\n",
    "\n",
    "Для веб-трафика отдельные сессии не считаются. Вместо этого общая сумма за месяц округляется в бо́льшую сторону. Если абонент использует 1025 мегабайт в этом месяце, с него возьмут плату за 2 гигабайта."
   ]
  },
  {
   "cell_type": "markdown",
   "id": "093bf633",
   "metadata": {},
   "source": [
    "**Инструкция по выполнению проекта**\n",
    "\n",
    "**Шаг 1. Подготовьте данные**\n",
    "\n",
    "- Приведите данные к нужным типам;\n",
    "- Найдите и исправьте ошибки в данных, если они есть.\n",
    "\n",
    "В данных вы найдёте звонки с нулевой продолжительностью. Это не ошибка: нулями обозначены пропущенные звонки, поэтому их не нужно удалять.\n",
    "\n",
    "Посчитайте для каждого пользователя:\n",
    "- количество сделанных звонков и израсходованных минут разговора по месяцам;\n",
    "- количество отправленных сообщений по месяцам;\n",
    "- объем израсходованного интернет-трафика по месяцам;\n",
    "- помесячную выручку с каждого пользователя (вычтите бесплатный лимит из суммарного количества звонков, сообщений и интернет-трафика; остаток умножьте на значение из тарифного плана; прибавьте абонентскую плату, соответствующую тарифному плану).\n",
    "\n",
    "**Шаг 2. Проанализируйте данные**\n",
    "\n",
    "Опишите поведение клиентов оператора, исходя из выборки. Сколько минут разговора, сколько сообщений и какой объём интернет-трафика требуется пользователям каждого тарифа в месяц? Посчитайте среднее количество, дисперсию и стандартное отклонение. Постройте гистограммы. Опишите распределения.\n",
    "\n",
    "**Шаг 3. Проверьте гипотезы**\n",
    "\n",
    "- средняя выручка пользователей тарифов «Ультра» и «Смарт» различаются;\n",
    "- средняя выручка пользователей из Москвы отличается от выручки пользователей из других регионов."
   ]
  },
  {
   "cell_type": "code",
   "execution_count": 1,
   "id": "2a500232",
   "metadata": {
    "ExecuteTime": {
     "end_time": "2024-10-09T14:55:40.423187Z",
     "start_time": "2024-10-09T14:55:38.622036Z"
    }
   },
   "outputs": [],
   "source": [
    "import pandas as pd\n",
    "import numpy as np\n",
    "import matplotlib.pyplot as plt\n",
    "from scipy import stats"
   ]
  },
  {
   "cell_type": "markdown",
   "id": "737c2c16",
   "metadata": {},
   "source": [
    "Для начала откроем файлы с данными и посмотрим на их содержимое."
   ]
  },
  {
   "cell_type": "code",
   "execution_count": 2,
   "id": "feb57de7",
   "metadata": {
    "ExecuteTime": {
     "end_time": "2024-10-09T14:55:41.642177Z",
     "start_time": "2024-10-09T14:55:41.615752Z"
    }
   },
   "outputs": [
    {
     "name": "stdout",
     "output_type": "stream",
     "text": [
      "Всего данных: 500\n"
     ]
    },
    {
     "data": {
      "text/html": [
       "<div>\n",
       "<style scoped>\n",
       "    .dataframe tbody tr th:only-of-type {\n",
       "        vertical-align: middle;\n",
       "    }\n",
       "\n",
       "    .dataframe tbody tr th {\n",
       "        vertical-align: top;\n",
       "    }\n",
       "\n",
       "    .dataframe thead th {\n",
       "        text-align: right;\n",
       "    }\n",
       "</style>\n",
       "<table border=\"1\" class=\"dataframe\">\n",
       "  <thead>\n",
       "    <tr style=\"text-align: right;\">\n",
       "      <th></th>\n",
       "      <th>user_id</th>\n",
       "      <th>age</th>\n",
       "      <th>churn_date</th>\n",
       "      <th>city</th>\n",
       "      <th>first_name</th>\n",
       "      <th>last_name</th>\n",
       "      <th>reg_date</th>\n",
       "      <th>tariff</th>\n",
       "    </tr>\n",
       "  </thead>\n",
       "  <tbody>\n",
       "    <tr>\n",
       "      <th>138</th>\n",
       "      <td>1138</td>\n",
       "      <td>23</td>\n",
       "      <td>NaN</td>\n",
       "      <td>Екатеринбург</td>\n",
       "      <td>Леся</td>\n",
       "      <td>Ерофеева</td>\n",
       "      <td>2018-07-13</td>\n",
       "      <td>smart</td>\n",
       "    </tr>\n",
       "    <tr>\n",
       "      <th>53</th>\n",
       "      <td>1053</td>\n",
       "      <td>64</td>\n",
       "      <td>NaN</td>\n",
       "      <td>Ростов-на-Дону</td>\n",
       "      <td>Ренальд</td>\n",
       "      <td>Фёдоров</td>\n",
       "      <td>2018-09-30</td>\n",
       "      <td>ultra</td>\n",
       "    </tr>\n",
       "    <tr>\n",
       "      <th>319</th>\n",
       "      <td>1319</td>\n",
       "      <td>70</td>\n",
       "      <td>NaN</td>\n",
       "      <td>Санкт-Петербург</td>\n",
       "      <td>Харитон</td>\n",
       "      <td>Парфенов</td>\n",
       "      <td>2018-08-24</td>\n",
       "      <td>smart</td>\n",
       "    </tr>\n",
       "    <tr>\n",
       "      <th>466</th>\n",
       "      <td>1466</td>\n",
       "      <td>37</td>\n",
       "      <td>NaN</td>\n",
       "      <td>Новосибирск</td>\n",
       "      <td>Рубен</td>\n",
       "      <td>Шевцов</td>\n",
       "      <td>2018-02-28</td>\n",
       "      <td>ultra</td>\n",
       "    </tr>\n",
       "    <tr>\n",
       "      <th>345</th>\n",
       "      <td>1345</td>\n",
       "      <td>31</td>\n",
       "      <td>NaN</td>\n",
       "      <td>Москва</td>\n",
       "      <td>Галина</td>\n",
       "      <td>Ёркина</td>\n",
       "      <td>2018-06-01</td>\n",
       "      <td>smart</td>\n",
       "    </tr>\n",
       "    <tr>\n",
       "      <th>483</th>\n",
       "      <td>1483</td>\n",
       "      <td>28</td>\n",
       "      <td>NaN</td>\n",
       "      <td>Ульяновск</td>\n",
       "      <td>Серафима</td>\n",
       "      <td>Борисова</td>\n",
       "      <td>2018-04-11</td>\n",
       "      <td>smart</td>\n",
       "    </tr>\n",
       "    <tr>\n",
       "      <th>36</th>\n",
       "      <td>1036</td>\n",
       "      <td>47</td>\n",
       "      <td>NaN</td>\n",
       "      <td>Санкт-Петербург</td>\n",
       "      <td>Анжелика</td>\n",
       "      <td>Андропова</td>\n",
       "      <td>2018-07-14</td>\n",
       "      <td>smart</td>\n",
       "    </tr>\n",
       "    <tr>\n",
       "      <th>11</th>\n",
       "      <td>1011</td>\n",
       "      <td>44</td>\n",
       "      <td>NaN</td>\n",
       "      <td>Самара</td>\n",
       "      <td>Веселина</td>\n",
       "      <td>Алёшко</td>\n",
       "      <td>2018-03-19</td>\n",
       "      <td>smart</td>\n",
       "    </tr>\n",
       "    <tr>\n",
       "      <th>280</th>\n",
       "      <td>1280</td>\n",
       "      <td>53</td>\n",
       "      <td>NaN</td>\n",
       "      <td>Астрахань</td>\n",
       "      <td>Артемий</td>\n",
       "      <td>Худяков</td>\n",
       "      <td>2018-07-18</td>\n",
       "      <td>smart</td>\n",
       "    </tr>\n",
       "    <tr>\n",
       "      <th>30</th>\n",
       "      <td>1030</td>\n",
       "      <td>28</td>\n",
       "      <td>NaN</td>\n",
       "      <td>Махачкала</td>\n",
       "      <td>Мариетта</td>\n",
       "      <td>Русанова</td>\n",
       "      <td>2018-05-23</td>\n",
       "      <td>smart</td>\n",
       "    </tr>\n",
       "  </tbody>\n",
       "</table>\n",
       "</div>"
      ],
      "text/plain": [
       "     user_id  age churn_date             city first_name  last_name  \\\n",
       "138     1138   23        NaN     Екатеринбург       Леся   Ерофеева   \n",
       "53      1053   64        NaN   Ростов-на-Дону    Ренальд    Фёдоров   \n",
       "319     1319   70        NaN  Санкт-Петербург    Харитон   Парфенов   \n",
       "466     1466   37        NaN      Новосибирск      Рубен     Шевцов   \n",
       "345     1345   31        NaN           Москва     Галина     Ёркина   \n",
       "483     1483   28        NaN        Ульяновск   Серафима   Борисова   \n",
       "36      1036   47        NaN  Санкт-Петербург   Анжелика  Андропова   \n",
       "11      1011   44        NaN           Самара   Веселина     Алёшко   \n",
       "280     1280   53        NaN        Астрахань    Артемий    Худяков   \n",
       "30      1030   28        NaN        Махачкала   Мариетта   Русанова   \n",
       "\n",
       "       reg_date tariff  \n",
       "138  2018-07-13  smart  \n",
       "53   2018-09-30  ultra  \n",
       "319  2018-08-24  smart  \n",
       "466  2018-02-28  ultra  \n",
       "345  2018-06-01  smart  \n",
       "483  2018-04-11  smart  \n",
       "36   2018-07-14  smart  \n",
       "11   2018-03-19  smart  \n",
       "280  2018-07-18  smart  \n",
       "30   2018-05-23  smart  "
      ]
     },
     "execution_count": 2,
     "metadata": {},
     "output_type": "execute_result"
    }
   ],
   "source": [
    "# информация о пользователях\n",
    "try:\n",
    "    users = pd.read_csv('./data/users.csv')\n",
    "except:\n",
    "    users = pd.read_csv('./data/users.csv', sep='\\t')\n",
    "\n",
    "print('Всего данных:', users.shape[0])\n",
    "users.sample(10)"
   ]
  },
  {
   "cell_type": "code",
   "execution_count": 3,
   "id": "8d581801",
   "metadata": {
    "ExecuteTime": {
     "end_time": "2024-10-09T14:55:42.140552Z",
     "start_time": "2024-10-09T14:55:41.988859Z"
    }
   },
   "outputs": [
    {
     "name": "stdout",
     "output_type": "stream",
     "text": [
      "Всего данных: 202607\n"
     ]
    },
    {
     "data": {
      "text/html": [
       "<div>\n",
       "<style scoped>\n",
       "    .dataframe tbody tr th:only-of-type {\n",
       "        vertical-align: middle;\n",
       "    }\n",
       "\n",
       "    .dataframe tbody tr th {\n",
       "        vertical-align: top;\n",
       "    }\n",
       "\n",
       "    .dataframe thead th {\n",
       "        text-align: right;\n",
       "    }\n",
       "</style>\n",
       "<table border=\"1\" class=\"dataframe\">\n",
       "  <thead>\n",
       "    <tr style=\"text-align: right;\">\n",
       "      <th></th>\n",
       "      <th>id</th>\n",
       "      <th>call_date</th>\n",
       "      <th>duration</th>\n",
       "      <th>user_id</th>\n",
       "    </tr>\n",
       "  </thead>\n",
       "  <tbody>\n",
       "    <tr>\n",
       "      <th>39068</th>\n",
       "      <td>1097_400</td>\n",
       "      <td>2018-11-13</td>\n",
       "      <td>4.75</td>\n",
       "      <td>1097</td>\n",
       "    </tr>\n",
       "    <tr>\n",
       "      <th>96822</th>\n",
       "      <td>1247_145</td>\n",
       "      <td>2018-06-04</td>\n",
       "      <td>0.00</td>\n",
       "      <td>1247</td>\n",
       "    </tr>\n",
       "    <tr>\n",
       "      <th>17580</th>\n",
       "      <td>1048_370</td>\n",
       "      <td>2018-09-18</td>\n",
       "      <td>16.31</td>\n",
       "      <td>1048</td>\n",
       "    </tr>\n",
       "    <tr>\n",
       "      <th>5080</th>\n",
       "      <td>1014_72</td>\n",
       "      <td>2018-12-22</td>\n",
       "      <td>2.07</td>\n",
       "      <td>1014</td>\n",
       "    </tr>\n",
       "    <tr>\n",
       "      <th>80408</th>\n",
       "      <td>1200_311</td>\n",
       "      <td>2018-11-10</td>\n",
       "      <td>12.87</td>\n",
       "      <td>1200</td>\n",
       "    </tr>\n",
       "    <tr>\n",
       "      <th>129958</th>\n",
       "      <td>1332_269</td>\n",
       "      <td>2018-09-07</td>\n",
       "      <td>19.14</td>\n",
       "      <td>1332</td>\n",
       "    </tr>\n",
       "    <tr>\n",
       "      <th>84715</th>\n",
       "      <td>1211_176</td>\n",
       "      <td>2018-08-31</td>\n",
       "      <td>0.00</td>\n",
       "      <td>1211</td>\n",
       "    </tr>\n",
       "    <tr>\n",
       "      <th>16504</th>\n",
       "      <td>1045_226</td>\n",
       "      <td>2018-04-05</td>\n",
       "      <td>4.72</td>\n",
       "      <td>1045</td>\n",
       "    </tr>\n",
       "    <tr>\n",
       "      <th>124280</th>\n",
       "      <td>1319_429</td>\n",
       "      <td>2018-12-18</td>\n",
       "      <td>15.38</td>\n",
       "      <td>1319</td>\n",
       "    </tr>\n",
       "    <tr>\n",
       "      <th>64520</th>\n",
       "      <td>1166_181</td>\n",
       "      <td>2018-09-06</td>\n",
       "      <td>4.51</td>\n",
       "      <td>1166</td>\n",
       "    </tr>\n",
       "  </tbody>\n",
       "</table>\n",
       "</div>"
      ],
      "text/plain": [
       "              id   call_date  duration  user_id\n",
       "39068   1097_400  2018-11-13      4.75     1097\n",
       "96822   1247_145  2018-06-04      0.00     1247\n",
       "17580   1048_370  2018-09-18     16.31     1048\n",
       "5080     1014_72  2018-12-22      2.07     1014\n",
       "80408   1200_311  2018-11-10     12.87     1200\n",
       "129958  1332_269  2018-09-07     19.14     1332\n",
       "84715   1211_176  2018-08-31      0.00     1211\n",
       "16504   1045_226  2018-04-05      4.72     1045\n",
       "124280  1319_429  2018-12-18     15.38     1319\n",
       "64520   1166_181  2018-09-06      4.51     1166"
      ]
     },
     "execution_count": 3,
     "metadata": {},
     "output_type": "execute_result"
    }
   ],
   "source": [
    "# информация о звонках\n",
    "try:\n",
    "    calls = pd.read_csv('./data/calls.csv')\n",
    "except:\n",
    "    calls = pd.read_csv('./data/calls.csv', sep='\\t')\n",
    "    \n",
    "print('Всего данных:', calls.shape[0])\n",
    "calls.sample(10)"
   ]
  },
  {
   "cell_type": "code",
   "execution_count": 4,
   "id": "155fc7c6",
   "metadata": {
    "ExecuteTime": {
     "end_time": "2024-10-09T14:55:42.312108Z",
     "start_time": "2024-10-09T14:55:42.214565Z"
    }
   },
   "outputs": [
    {
     "name": "stdout",
     "output_type": "stream",
     "text": [
      "Всего данных: 123036\n"
     ]
    },
    {
     "data": {
      "text/html": [
       "<div>\n",
       "<style scoped>\n",
       "    .dataframe tbody tr th:only-of-type {\n",
       "        vertical-align: middle;\n",
       "    }\n",
       "\n",
       "    .dataframe tbody tr th {\n",
       "        vertical-align: top;\n",
       "    }\n",
       "\n",
       "    .dataframe thead th {\n",
       "        text-align: right;\n",
       "    }\n",
       "</style>\n",
       "<table border=\"1\" class=\"dataframe\">\n",
       "  <thead>\n",
       "    <tr style=\"text-align: right;\">\n",
       "      <th></th>\n",
       "      <th>id</th>\n",
       "      <th>message_date</th>\n",
       "      <th>user_id</th>\n",
       "    </tr>\n",
       "  </thead>\n",
       "  <tbody>\n",
       "    <tr>\n",
       "      <th>112952</th>\n",
       "      <td>1457_1</td>\n",
       "      <td>2018-10-06</td>\n",
       "      <td>1457</td>\n",
       "    </tr>\n",
       "    <tr>\n",
       "      <th>61183</th>\n",
       "      <td>1270_56</td>\n",
       "      <td>2018-09-18</td>\n",
       "      <td>1270</td>\n",
       "    </tr>\n",
       "    <tr>\n",
       "      <th>48639</th>\n",
       "      <td>1215_66</td>\n",
       "      <td>2018-10-12</td>\n",
       "      <td>1215</td>\n",
       "    </tr>\n",
       "    <tr>\n",
       "      <th>114974</th>\n",
       "      <td>1471_202</td>\n",
       "      <td>2018-07-18</td>\n",
       "      <td>1471</td>\n",
       "    </tr>\n",
       "    <tr>\n",
       "      <th>120832</th>\n",
       "      <td>1490_54</td>\n",
       "      <td>2018-07-10</td>\n",
       "      <td>1490</td>\n",
       "    </tr>\n",
       "    <tr>\n",
       "      <th>117106</th>\n",
       "      <td>1476_34</td>\n",
       "      <td>2018-12-26</td>\n",
       "      <td>1476</td>\n",
       "    </tr>\n",
       "    <tr>\n",
       "      <th>88781</th>\n",
       "      <td>1372_201</td>\n",
       "      <td>2018-10-13</td>\n",
       "      <td>1372</td>\n",
       "    </tr>\n",
       "    <tr>\n",
       "      <th>95263</th>\n",
       "      <td>1392_103</td>\n",
       "      <td>2018-09-08</td>\n",
       "      <td>1392</td>\n",
       "    </tr>\n",
       "    <tr>\n",
       "      <th>64321</th>\n",
       "      <td>1277_998</td>\n",
       "      <td>2018-11-21</td>\n",
       "      <td>1277</td>\n",
       "    </tr>\n",
       "    <tr>\n",
       "      <th>112443</th>\n",
       "      <td>1453_468</td>\n",
       "      <td>2018-01-09</td>\n",
       "      <td>1453</td>\n",
       "    </tr>\n",
       "  </tbody>\n",
       "</table>\n",
       "</div>"
      ],
      "text/plain": [
       "              id message_date  user_id\n",
       "112952    1457_1   2018-10-06     1457\n",
       "61183    1270_56   2018-09-18     1270\n",
       "48639    1215_66   2018-10-12     1215\n",
       "114974  1471_202   2018-07-18     1471\n",
       "120832   1490_54   2018-07-10     1490\n",
       "117106   1476_34   2018-12-26     1476\n",
       "88781   1372_201   2018-10-13     1372\n",
       "95263   1392_103   2018-09-08     1392\n",
       "64321   1277_998   2018-11-21     1277\n",
       "112443  1453_468   2018-01-09     1453"
      ]
     },
     "execution_count": 4,
     "metadata": {},
     "output_type": "execute_result"
    }
   ],
   "source": [
    "# информация о сообщениях\n",
    "try:\n",
    "    messages = pd.read_csv('./data/messages.csv')\n",
    "except:\n",
    "    messages = pd.read_csv('./data/messages.csv', sep='\\t')\n",
    "    \n",
    "print('Всего данных:', messages.shape[0])\n",
    "messages.sample(10)"
   ]
  },
  {
   "cell_type": "code",
   "execution_count": 5,
   "id": "b9e1cad7",
   "metadata": {
    "ExecuteTime": {
     "end_time": "2024-10-09T14:55:42.562681Z",
     "start_time": "2024-10-09T14:55:42.418889Z"
    }
   },
   "outputs": [
    {
     "name": "stdout",
     "output_type": "stream",
     "text": [
      "Всего данных: 149396\n"
     ]
    },
    {
     "data": {
      "text/html": [
       "<div>\n",
       "<style scoped>\n",
       "    .dataframe tbody tr th:only-of-type {\n",
       "        vertical-align: middle;\n",
       "    }\n",
       "\n",
       "    .dataframe tbody tr th {\n",
       "        vertical-align: top;\n",
       "    }\n",
       "\n",
       "    .dataframe thead th {\n",
       "        text-align: right;\n",
       "    }\n",
       "</style>\n",
       "<table border=\"1\" class=\"dataframe\">\n",
       "  <thead>\n",
       "    <tr style=\"text-align: right;\">\n",
       "      <th></th>\n",
       "      <th>Unnamed: 0</th>\n",
       "      <th>id</th>\n",
       "      <th>mb_used</th>\n",
       "      <th>session_date</th>\n",
       "      <th>user_id</th>\n",
       "    </tr>\n",
       "  </thead>\n",
       "  <tbody>\n",
       "    <tr>\n",
       "      <th>123569</th>\n",
       "      <td>123569</td>\n",
       "      <td>1415_177</td>\n",
       "      <td>785.96</td>\n",
       "      <td>2018-09-09</td>\n",
       "      <td>1415</td>\n",
       "    </tr>\n",
       "    <tr>\n",
       "      <th>120857</th>\n",
       "      <td>120857</td>\n",
       "      <td>1408_165</td>\n",
       "      <td>117.47</td>\n",
       "      <td>2018-12-29</td>\n",
       "      <td>1408</td>\n",
       "    </tr>\n",
       "    <tr>\n",
       "      <th>113261</th>\n",
       "      <td>113261</td>\n",
       "      <td>1383_69</td>\n",
       "      <td>188.38</td>\n",
       "      <td>2018-11-11</td>\n",
       "      <td>1383</td>\n",
       "    </tr>\n",
       "    <tr>\n",
       "      <th>12155</th>\n",
       "      <td>12155</td>\n",
       "      <td>1043_153</td>\n",
       "      <td>912.54</td>\n",
       "      <td>2018-11-11</td>\n",
       "      <td>1043</td>\n",
       "    </tr>\n",
       "    <tr>\n",
       "      <th>141675</th>\n",
       "      <td>141675</td>\n",
       "      <td>1475_398</td>\n",
       "      <td>480.56</td>\n",
       "      <td>2018-05-24</td>\n",
       "      <td>1475</td>\n",
       "    </tr>\n",
       "    <tr>\n",
       "      <th>111243</th>\n",
       "      <td>111243</td>\n",
       "      <td>1378_36</td>\n",
       "      <td>55.49</td>\n",
       "      <td>2018-10-03</td>\n",
       "      <td>1378</td>\n",
       "    </tr>\n",
       "    <tr>\n",
       "      <th>107068</th>\n",
       "      <td>107068</td>\n",
       "      <td>1363_114</td>\n",
       "      <td>486.06</td>\n",
       "      <td>2018-11-06</td>\n",
       "      <td>1363</td>\n",
       "    </tr>\n",
       "    <tr>\n",
       "      <th>66783</th>\n",
       "      <td>66783</td>\n",
       "      <td>1227_380</td>\n",
       "      <td>0.00</td>\n",
       "      <td>2018-09-04</td>\n",
       "      <td>1227</td>\n",
       "    </tr>\n",
       "    <tr>\n",
       "      <th>142519</th>\n",
       "      <td>142519</td>\n",
       "      <td>1477_416</td>\n",
       "      <td>839.05</td>\n",
       "      <td>2018-11-13</td>\n",
       "      <td>1477</td>\n",
       "    </tr>\n",
       "    <tr>\n",
       "      <th>36783</th>\n",
       "      <td>36783</td>\n",
       "      <td>1127_133</td>\n",
       "      <td>196.98</td>\n",
       "      <td>2018-06-24</td>\n",
       "      <td>1127</td>\n",
       "    </tr>\n",
       "  </tbody>\n",
       "</table>\n",
       "</div>"
      ],
      "text/plain": [
       "        Unnamed: 0        id  mb_used session_date  user_id\n",
       "123569      123569  1415_177   785.96   2018-09-09     1415\n",
       "120857      120857  1408_165   117.47   2018-12-29     1408\n",
       "113261      113261   1383_69   188.38   2018-11-11     1383\n",
       "12155        12155  1043_153   912.54   2018-11-11     1043\n",
       "141675      141675  1475_398   480.56   2018-05-24     1475\n",
       "111243      111243   1378_36    55.49   2018-10-03     1378\n",
       "107068      107068  1363_114   486.06   2018-11-06     1363\n",
       "66783        66783  1227_380     0.00   2018-09-04     1227\n",
       "142519      142519  1477_416   839.05   2018-11-13     1477\n",
       "36783        36783  1127_133   196.98   2018-06-24     1127"
      ]
     },
     "execution_count": 5,
     "metadata": {},
     "output_type": "execute_result"
    }
   ],
   "source": [
    "# информация об интернет-сессиях\n",
    "try:\n",
    "    internet = pd.read_csv('./data/internet.csv')\n",
    "except:\n",
    "    internet = pd.read_csv('./data/internet.csv', sep='\\t')\n",
    "    \n",
    "print('Всего данных:', internet.shape[0])\n",
    "internet.sample(10)"
   ]
  },
  {
   "cell_type": "code",
   "execution_count": 6,
   "id": "f39a5f18",
   "metadata": {
    "ExecuteTime": {
     "end_time": "2024-10-09T14:55:42.623716Z",
     "start_time": "2024-10-09T14:55:42.613693Z"
    },
    "scrolled": false
   },
   "outputs": [
    {
     "data": {
      "text/html": [
       "<div>\n",
       "<style scoped>\n",
       "    .dataframe tbody tr th:only-of-type {\n",
       "        vertical-align: middle;\n",
       "    }\n",
       "\n",
       "    .dataframe tbody tr th {\n",
       "        vertical-align: top;\n",
       "    }\n",
       "\n",
       "    .dataframe thead th {\n",
       "        text-align: right;\n",
       "    }\n",
       "</style>\n",
       "<table border=\"1\" class=\"dataframe\">\n",
       "  <thead>\n",
       "    <tr style=\"text-align: right;\">\n",
       "      <th></th>\n",
       "      <th>messages_included</th>\n",
       "      <th>mb_per_month_included</th>\n",
       "      <th>minutes_included</th>\n",
       "      <th>rub_monthly_fee</th>\n",
       "      <th>rub_per_gb</th>\n",
       "      <th>rub_per_message</th>\n",
       "      <th>rub_per_minute</th>\n",
       "      <th>tariff_name</th>\n",
       "    </tr>\n",
       "  </thead>\n",
       "  <tbody>\n",
       "    <tr>\n",
       "      <th>0</th>\n",
       "      <td>50</td>\n",
       "      <td>15360</td>\n",
       "      <td>500</td>\n",
       "      <td>550</td>\n",
       "      <td>200</td>\n",
       "      <td>3</td>\n",
       "      <td>3</td>\n",
       "      <td>smart</td>\n",
       "    </tr>\n",
       "    <tr>\n",
       "      <th>1</th>\n",
       "      <td>1000</td>\n",
       "      <td>30720</td>\n",
       "      <td>3000</td>\n",
       "      <td>1950</td>\n",
       "      <td>150</td>\n",
       "      <td>1</td>\n",
       "      <td>1</td>\n",
       "      <td>ultra</td>\n",
       "    </tr>\n",
       "  </tbody>\n",
       "</table>\n",
       "</div>"
      ],
      "text/plain": [
       "   messages_included  mb_per_month_included  minutes_included  \\\n",
       "0                 50                  15360               500   \n",
       "1               1000                  30720              3000   \n",
       "\n",
       "   rub_monthly_fee  rub_per_gb  rub_per_message  rub_per_minute tariff_name  \n",
       "0              550         200                3               3       smart  \n",
       "1             1950         150                1               1       ultra  "
      ]
     },
     "execution_count": 6,
     "metadata": {},
     "output_type": "execute_result"
    }
   ],
   "source": [
    "# информация о тарифах\n",
    "try:\n",
    "    tariffs = pd.read_csv('./data/tariffs.csv')\n",
    "except:\n",
    "    tariffs = pd.read_csv('./data/tariffs.csv', sep='\\t')\n",
    "    \n",
    "tariffs"
   ]
  },
  {
   "cell_type": "markdown",
   "id": "1200e303",
   "metadata": {},
   "source": [
    " "
   ]
  },
  {
   "cell_type": "markdown",
   "id": "e7b94d60",
   "metadata": {},
   "source": [
    " "
   ]
  },
  {
   "cell_type": "markdown",
   "id": "82afb1c9",
   "metadata": {},
   "source": [
    "## 1 шаг. Подготовка данных"
   ]
  },
  {
   "cell_type": "markdown",
   "id": "42bf395b",
   "metadata": {},
   "source": [
    "### 1.1 Приведение данных к нужным типам и исправление ошибок в данных"
   ]
  },
  {
   "cell_type": "markdown",
   "id": "f2ee37f8",
   "metadata": {},
   "source": [
    "Посмотрим на типы данных наших таблиц, может нужно будет где-то поменять на другой тип.\n",
    "\n",
    "Также сразу добавим столбец с месяцем от каждой даты в таблицах, так как нам придется проводить анализ за один год, поэтому понадобится информация по месяцам."
   ]
  },
  {
   "cell_type": "markdown",
   "id": "0c529d00",
   "metadata": {},
   "source": [
    "**Таблица users**"
   ]
  },
  {
   "cell_type": "code",
   "execution_count": 7,
   "id": "ed7e9f79",
   "metadata": {
    "ExecuteTime": {
     "end_time": "2024-10-09T14:55:43.975882Z",
     "start_time": "2024-10-09T14:55:43.967683Z"
    }
   },
   "outputs": [
    {
     "name": "stdout",
     "output_type": "stream",
     "text": [
      "<class 'pandas.core.frame.DataFrame'>\n",
      "RangeIndex: 500 entries, 0 to 499\n",
      "Data columns (total 8 columns):\n",
      " #   Column      Non-Null Count  Dtype \n",
      "---  ------      --------------  ----- \n",
      " 0   user_id     500 non-null    int64 \n",
      " 1   age         500 non-null    int64 \n",
      " 2   churn_date  38 non-null     object\n",
      " 3   city        500 non-null    object\n",
      " 4   first_name  500 non-null    object\n",
      " 5   last_name   500 non-null    object\n",
      " 6   reg_date    500 non-null    object\n",
      " 7   tariff      500 non-null    object\n",
      "dtypes: int64(2), object(6)\n",
      "memory usage: 31.4+ KB\n"
     ]
    }
   ],
   "source": [
    "users.info()"
   ]
  },
  {
   "cell_type": "code",
   "execution_count": 8,
   "id": "6089e8d9",
   "metadata": {
    "ExecuteTime": {
     "end_time": "2024-10-09T14:55:44.177004Z",
     "start_time": "2024-10-09T14:55:44.161954Z"
    }
   },
   "outputs": [
    {
     "name": "stdout",
     "output_type": "stream",
     "text": [
      "<class 'pandas.core.series.Series'>\n",
      "RangeIndex: 500 entries, 0 to 499\n",
      "Series name: churn_date\n",
      "Non-Null Count  Dtype         \n",
      "--------------  -----         \n",
      "38 non-null     datetime64[ns]\n",
      "dtypes: datetime64[ns](1)\n",
      "memory usage: 4.0 KB\n",
      "<class 'pandas.core.series.Series'>\n",
      "RangeIndex: 500 entries, 0 to 499\n",
      "Series name: reg_date\n",
      "Non-Null Count  Dtype         \n",
      "--------------  -----         \n",
      "500 non-null    datetime64[ns]\n",
      "dtypes: datetime64[ns](1)\n",
      "memory usage: 4.0 KB\n"
     ]
    }
   ],
   "source": [
    "# исправим данные с датой на соответствующий тип данных\n",
    "users['churn_date'] = pd.to_datetime(users['churn_date'])\n",
    "users['reg_date'] = pd.to_datetime(users['reg_date'])\n",
    "\n",
    "users['churn_date'].info()\n",
    "users['reg_date'].info()"
   ]
  },
  {
   "cell_type": "code",
   "execution_count": 9,
   "id": "81821378",
   "metadata": {
    "ExecuteTime": {
     "end_time": "2024-10-09T14:55:44.361334Z",
     "start_time": "2024-10-09T14:55:44.356598Z"
    }
   },
   "outputs": [],
   "source": [
    "users['churn_month'] = users['churn_date'].dt.month_name()\n",
    "users['reg_month'] = users['reg_date'].dt.month_name()"
   ]
  },
  {
   "cell_type": "code",
   "execution_count": 10,
   "id": "13f99129",
   "metadata": {
    "ExecuteTime": {
     "end_time": "2024-10-09T14:55:44.567147Z",
     "start_time": "2024-10-09T14:55:44.557307Z"
    }
   },
   "outputs": [
    {
     "name": "stdout",
     "output_type": "stream",
     "text": [
      "<class 'pandas.core.frame.DataFrame'>\n",
      "RangeIndex: 500 entries, 0 to 499\n",
      "Data columns (total 10 columns):\n",
      " #   Column       Non-Null Count  Dtype         \n",
      "---  ------       --------------  -----         \n",
      " 0   user_id      500 non-null    int64         \n",
      " 1   age          500 non-null    int64         \n",
      " 2   churn_date   38 non-null     datetime64[ns]\n",
      " 3   city         500 non-null    object        \n",
      " 4   first_name   500 non-null    object        \n",
      " 5   last_name    500 non-null    object        \n",
      " 6   reg_date     500 non-null    datetime64[ns]\n",
      " 7   tariff       500 non-null    object        \n",
      " 8   churn_month  38 non-null     object        \n",
      " 9   reg_month    500 non-null    object        \n",
      "dtypes: datetime64[ns](2), int64(2), object(6)\n",
      "memory usage: 39.2+ KB\n"
     ]
    }
   ],
   "source": [
    "users.info()\n",
    "# все хорошо"
   ]
  },
  {
   "cell_type": "markdown",
   "id": "4ce3600e",
   "metadata": {},
   "source": [
    "**Таблица calls**"
   ]
  },
  {
   "cell_type": "code",
   "execution_count": 11,
   "id": "959a2414",
   "metadata": {
    "ExecuteTime": {
     "end_time": "2024-10-09T14:55:44.959848Z",
     "start_time": "2024-10-09T14:55:44.938807Z"
    }
   },
   "outputs": [
    {
     "name": "stdout",
     "output_type": "stream",
     "text": [
      "<class 'pandas.core.frame.DataFrame'>\n",
      "RangeIndex: 202607 entries, 0 to 202606\n",
      "Data columns (total 4 columns):\n",
      " #   Column     Non-Null Count   Dtype  \n",
      "---  ------     --------------   -----  \n",
      " 0   id         202607 non-null  object \n",
      " 1   call_date  202607 non-null  object \n",
      " 2   duration   202607 non-null  float64\n",
      " 3   user_id    202607 non-null  int64  \n",
      "dtypes: float64(1), int64(1), object(2)\n",
      "memory usage: 6.2+ MB\n"
     ]
    }
   ],
   "source": [
    "calls.info()"
   ]
  },
  {
   "cell_type": "code",
   "execution_count": 12,
   "id": "a19706d8",
   "metadata": {
    "ExecuteTime": {
     "end_time": "2024-10-09T14:55:45.171622Z",
     "start_time": "2024-10-09T14:55:45.138341Z"
    }
   },
   "outputs": [
    {
     "name": "stdout",
     "output_type": "stream",
     "text": [
      "<class 'pandas.core.series.Series'>\n",
      "RangeIndex: 202607 entries, 0 to 202606\n",
      "Series name: call_date\n",
      "Non-Null Count   Dtype         \n",
      "--------------   -----         \n",
      "202607 non-null  datetime64[ns]\n",
      "dtypes: datetime64[ns](1)\n",
      "memory usage: 1.5 MB\n"
     ]
    }
   ],
   "source": [
    "calls['call_date'] = pd.to_datetime(calls['call_date'])\n",
    "\n",
    "calls['call_date'].info()"
   ]
  },
  {
   "cell_type": "code",
   "execution_count": 13,
   "id": "3868e837",
   "metadata": {
    "ExecuteTime": {
     "end_time": "2024-10-09T14:55:45.384492Z",
     "start_time": "2024-10-09T14:55:45.328570Z"
    }
   },
   "outputs": [],
   "source": [
    "calls['call_month'] = calls['call_date'].dt.month_name()"
   ]
  },
  {
   "cell_type": "markdown",
   "id": "f17db22a",
   "metadata": {},
   "source": [
    "Знаем, что нулевая продолжительность обозначается как пропущенный звонок, так что их не удаляем."
   ]
  },
  {
   "cell_type": "code",
   "execution_count": 14,
   "id": "4fdf3d08",
   "metadata": {
    "ExecuteTime": {
     "end_time": "2024-10-09T14:55:45.722887Z",
     "start_time": "2024-10-09T14:55:45.716660Z"
    }
   },
   "outputs": [],
   "source": [
    "# также видим, что длительность звонка представлена в дробном типе данных\n",
    "# можем исправить это, округлив данные как делают это провайдеры \n",
    "# (указано в примечании)\n",
    "calls['duration'] = np.ceil(calls['duration']).astype('int')"
   ]
  },
  {
   "cell_type": "code",
   "execution_count": 15,
   "id": "30f1b5b4",
   "metadata": {
    "ExecuteTime": {
     "end_time": "2024-10-09T14:55:45.934430Z",
     "start_time": "2024-10-09T14:55:45.911309Z"
    }
   },
   "outputs": [
    {
     "name": "stdout",
     "output_type": "stream",
     "text": [
      "<class 'pandas.core.frame.DataFrame'>\n",
      "RangeIndex: 202607 entries, 0 to 202606\n",
      "Data columns (total 5 columns):\n",
      " #   Column      Non-Null Count   Dtype         \n",
      "---  ------      --------------   -----         \n",
      " 0   id          202607 non-null  object        \n",
      " 1   call_date   202607 non-null  datetime64[ns]\n",
      " 2   duration    202607 non-null  int32         \n",
      " 3   user_id     202607 non-null  int64         \n",
      " 4   call_month  202607 non-null  object        \n",
      "dtypes: datetime64[ns](1), int32(1), int64(1), object(2)\n",
      "memory usage: 7.0+ MB\n"
     ]
    }
   ],
   "source": [
    "calls.info()\n",
    "# все хорошо"
   ]
  },
  {
   "cell_type": "markdown",
   "id": "18fe3ca1",
   "metadata": {},
   "source": [
    "**Таблица messages**"
   ]
  },
  {
   "cell_type": "code",
   "execution_count": 16,
   "id": "d5e71d42",
   "metadata": {
    "ExecuteTime": {
     "end_time": "2024-10-09T14:55:46.314101Z",
     "start_time": "2024-10-09T14:55:46.299079Z"
    }
   },
   "outputs": [
    {
     "name": "stdout",
     "output_type": "stream",
     "text": [
      "<class 'pandas.core.frame.DataFrame'>\n",
      "RangeIndex: 123036 entries, 0 to 123035\n",
      "Data columns (total 3 columns):\n",
      " #   Column        Non-Null Count   Dtype \n",
      "---  ------        --------------   ----- \n",
      " 0   id            123036 non-null  object\n",
      " 1   message_date  123036 non-null  object\n",
      " 2   user_id       123036 non-null  int64 \n",
      "dtypes: int64(1), object(2)\n",
      "memory usage: 2.8+ MB\n"
     ]
    }
   ],
   "source": [
    "messages.info()"
   ]
  },
  {
   "cell_type": "code",
   "execution_count": 17,
   "id": "1cd3232a",
   "metadata": {
    "ExecuteTime": {
     "end_time": "2024-10-09T14:55:46.507104Z",
     "start_time": "2024-10-09T14:55:46.484595Z"
    }
   },
   "outputs": [
    {
     "name": "stdout",
     "output_type": "stream",
     "text": [
      "<class 'pandas.core.series.Series'>\n",
      "RangeIndex: 123036 entries, 0 to 123035\n",
      "Series name: message_date\n",
      "Non-Null Count   Dtype         \n",
      "--------------   -----         \n",
      "123036 non-null  datetime64[ns]\n",
      "dtypes: datetime64[ns](1)\n",
      "memory usage: 961.3 KB\n"
     ]
    }
   ],
   "source": [
    "messages['message_date'] = pd.to_datetime(messages['message_date'])\n",
    "\n",
    "messages['message_date'].info()"
   ]
  },
  {
   "cell_type": "code",
   "execution_count": 18,
   "id": "427bd3c0",
   "metadata": {
    "ExecuteTime": {
     "end_time": "2024-10-09T14:55:46.704419Z",
     "start_time": "2024-10-09T14:55:46.668639Z"
    }
   },
   "outputs": [],
   "source": [
    "messages['message_month'] = messages['message_date'].dt.month_name()"
   ]
  },
  {
   "cell_type": "code",
   "execution_count": 19,
   "id": "6da990c6",
   "metadata": {
    "ExecuteTime": {
     "end_time": "2024-10-09T14:55:46.880364Z",
     "start_time": "2024-10-09T14:55:46.862429Z"
    }
   },
   "outputs": [
    {
     "name": "stdout",
     "output_type": "stream",
     "text": [
      "<class 'pandas.core.frame.DataFrame'>\n",
      "RangeIndex: 123036 entries, 0 to 123035\n",
      "Data columns (total 4 columns):\n",
      " #   Column         Non-Null Count   Dtype         \n",
      "---  ------         --------------   -----         \n",
      " 0   id             123036 non-null  object        \n",
      " 1   message_date   123036 non-null  datetime64[ns]\n",
      " 2   user_id        123036 non-null  int64         \n",
      " 3   message_month  123036 non-null  object        \n",
      "dtypes: datetime64[ns](1), int64(1), object(2)\n",
      "memory usage: 3.8+ MB\n"
     ]
    }
   ],
   "source": [
    "messages.info()\n",
    "# все хорошо"
   ]
  },
  {
   "cell_type": "markdown",
   "id": "3359605c",
   "metadata": {},
   "source": [
    "**Таблица internet**"
   ]
  },
  {
   "cell_type": "code",
   "execution_count": 20,
   "id": "b25a04fc",
   "metadata": {
    "ExecuteTime": {
     "end_time": "2024-10-09T14:55:47.270281Z",
     "start_time": "2024-10-09T14:55:47.251175Z"
    }
   },
   "outputs": [
    {
     "name": "stdout",
     "output_type": "stream",
     "text": [
      "<class 'pandas.core.frame.DataFrame'>\n",
      "RangeIndex: 149396 entries, 0 to 149395\n",
      "Data columns (total 5 columns):\n",
      " #   Column        Non-Null Count   Dtype  \n",
      "---  ------        --------------   -----  \n",
      " 0   Unnamed: 0    149396 non-null  int64  \n",
      " 1   id            149396 non-null  object \n",
      " 2   mb_used       149396 non-null  float64\n",
      " 3   session_date  149396 non-null  object \n",
      " 4   user_id       149396 non-null  int64  \n",
      "dtypes: float64(1), int64(2), object(2)\n",
      "memory usage: 5.7+ MB\n"
     ]
    }
   ],
   "source": [
    "internet.info()"
   ]
  },
  {
   "cell_type": "code",
   "execution_count": 21,
   "id": "32a72dd5",
   "metadata": {
    "ExecuteTime": {
     "end_time": "2024-10-09T14:55:47.451461Z",
     "start_time": "2024-10-09T14:55:47.441058Z"
    }
   },
   "outputs": [],
   "source": [
    "# есть столбец, который дублирует номера строк из импортируемой таблицы \n",
    "# он не нужен, удалим просто этот столбец\n",
    "internet = internet.drop(columns='Unnamed: 0')"
   ]
  },
  {
   "cell_type": "code",
   "execution_count": 22,
   "id": "f3b1978e",
   "metadata": {
    "ExecuteTime": {
     "end_time": "2024-10-09T14:55:47.667375Z",
     "start_time": "2024-10-09T14:55:47.639310Z"
    }
   },
   "outputs": [
    {
     "name": "stdout",
     "output_type": "stream",
     "text": [
      "<class 'pandas.core.series.Series'>\n",
      "RangeIndex: 149396 entries, 0 to 149395\n",
      "Series name: session_date\n",
      "Non-Null Count   Dtype         \n",
      "--------------   -----         \n",
      "149396 non-null  datetime64[ns]\n",
      "dtypes: datetime64[ns](1)\n",
      "memory usage: 1.1 MB\n"
     ]
    }
   ],
   "source": [
    "internet['session_date'] = pd.to_datetime(internet['session_date'])\n",
    "\n",
    "internet['session_date'].info()"
   ]
  },
  {
   "cell_type": "code",
   "execution_count": 23,
   "id": "2aff74ac",
   "metadata": {
    "ExecuteTime": {
     "end_time": "2024-10-09T14:55:48.021986Z",
     "start_time": "2024-10-09T14:55:47.984157Z"
    }
   },
   "outputs": [],
   "source": [
    "internet['session_month'] = internet['session_date'].dt.month_name()"
   ]
  },
  {
   "cell_type": "code",
   "execution_count": 24,
   "id": "905d39c3",
   "metadata": {
    "ExecuteTime": {
     "end_time": "2024-10-09T14:55:48.205852Z",
     "start_time": "2024-10-09T14:55:48.177944Z"
    }
   },
   "outputs": [],
   "source": [
    "# заменим мегабайты на гигабайты, как было указано в примечании\n",
    "internet['mb_used'] = internet['mb_used'] / 1024\n",
    "\n",
    "internet = internet.rename(columns={'mb_used': 'gb_used'})"
   ]
  },
  {
   "cell_type": "code",
   "execution_count": 25,
   "id": "c0f02ddd",
   "metadata": {
    "ExecuteTime": {
     "end_time": "2024-10-09T14:55:48.373618Z",
     "start_time": "2024-10-09T14:55:48.367253Z"
    }
   },
   "outputs": [],
   "source": [
    "# также округлим гигабайты в большую сторону, избавясь от дробной части\n",
    "internet['gb_used'] = np.ceil(internet['gb_used']).astype('int')"
   ]
  },
  {
   "cell_type": "code",
   "execution_count": 26,
   "id": "0af69227",
   "metadata": {
    "ExecuteTime": {
     "end_time": "2024-10-09T14:55:48.558053Z",
     "start_time": "2024-10-09T14:55:48.539997Z"
    }
   },
   "outputs": [
    {
     "name": "stdout",
     "output_type": "stream",
     "text": [
      "<class 'pandas.core.frame.DataFrame'>\n",
      "RangeIndex: 149396 entries, 0 to 149395\n",
      "Data columns (total 5 columns):\n",
      " #   Column         Non-Null Count   Dtype         \n",
      "---  ------         --------------   -----         \n",
      " 0   id             149396 non-null  object        \n",
      " 1   gb_used        149396 non-null  int32         \n",
      " 2   session_date   149396 non-null  datetime64[ns]\n",
      " 3   user_id        149396 non-null  int64         \n",
      " 4   session_month  149396 non-null  object        \n",
      "dtypes: datetime64[ns](1), int32(1), int64(1), object(2)\n",
      "memory usage: 5.1+ MB\n"
     ]
    }
   ],
   "source": [
    "internet.info()\n",
    "# все хорошо"
   ]
  },
  {
   "cell_type": "markdown",
   "id": "19f19c6e",
   "metadata": {},
   "source": [
    "**Таблица tariffs**"
   ]
  },
  {
   "cell_type": "code",
   "execution_count": 27,
   "id": "15fce865",
   "metadata": {
    "ExecuteTime": {
     "end_time": "2024-10-09T14:55:48.912638Z",
     "start_time": "2024-10-09T14:55:48.904891Z"
    }
   },
   "outputs": [
    {
     "name": "stdout",
     "output_type": "stream",
     "text": [
      "<class 'pandas.core.frame.DataFrame'>\n",
      "RangeIndex: 2 entries, 0 to 1\n",
      "Data columns (total 8 columns):\n",
      " #   Column                 Non-Null Count  Dtype \n",
      "---  ------                 --------------  ----- \n",
      " 0   messages_included      2 non-null      int64 \n",
      " 1   mb_per_month_included  2 non-null      int64 \n",
      " 2   minutes_included       2 non-null      int64 \n",
      " 3   rub_monthly_fee        2 non-null      int64 \n",
      " 4   rub_per_gb             2 non-null      int64 \n",
      " 5   rub_per_message        2 non-null      int64 \n",
      " 6   rub_per_minute         2 non-null      int64 \n",
      " 7   tariff_name            2 non-null      object\n",
      "dtypes: int64(7), object(1)\n",
      "memory usage: 260.0+ bytes\n"
     ]
    }
   ],
   "source": [
    "tariffs.info()"
   ]
  },
  {
   "cell_type": "code",
   "execution_count": 28,
   "id": "244ee8f9",
   "metadata": {
    "ExecuteTime": {
     "end_time": "2024-10-09T14:55:49.094949Z",
     "start_time": "2024-10-09T14:55:49.089984Z"
    }
   },
   "outputs": [],
   "source": [
    "# переведём мегабайты в гигабайты\n",
    "tariffs['mb_per_month_included'] = tariffs['mb_per_month_included'] / 1024\n",
    "\n",
    "tariffs = tariffs.rename(columns={'mb_per_month_included': 'gb_per_month_included'})"
   ]
  },
  {
   "cell_type": "code",
   "execution_count": 29,
   "id": "5f8158de",
   "metadata": {
    "ExecuteTime": {
     "end_time": "2024-10-09T14:55:49.277195Z",
     "start_time": "2024-10-09T14:55:49.273513Z"
    }
   },
   "outputs": [],
   "source": [
    "# для дальнейшего удобства также поменяем название столбца tariff_name\n",
    "tariffs = tariffs.rename(columns={'tariff_name' : 'tariff'})"
   ]
  },
  {
   "cell_type": "code",
   "execution_count": 30,
   "id": "3c97b092",
   "metadata": {
    "ExecuteTime": {
     "end_time": "2024-10-09T14:55:49.466914Z",
     "start_time": "2024-10-09T14:55:49.458551Z"
    }
   },
   "outputs": [
    {
     "name": "stdout",
     "output_type": "stream",
     "text": [
      "<class 'pandas.core.frame.DataFrame'>\n",
      "RangeIndex: 2 entries, 0 to 1\n",
      "Data columns (total 8 columns):\n",
      " #   Column                 Non-Null Count  Dtype  \n",
      "---  ------                 --------------  -----  \n",
      " 0   messages_included      2 non-null      int64  \n",
      " 1   gb_per_month_included  2 non-null      float64\n",
      " 2   minutes_included       2 non-null      int64  \n",
      " 3   rub_monthly_fee        2 non-null      int64  \n",
      " 4   rub_per_gb             2 non-null      int64  \n",
      " 5   rub_per_message        2 non-null      int64  \n",
      " 6   rub_per_minute         2 non-null      int64  \n",
      " 7   tariff                 2 non-null      object \n",
      "dtypes: float64(1), int64(6), object(1)\n",
      "memory usage: 260.0+ bytes\n"
     ]
    }
   ],
   "source": [
    "tariffs.info()\n",
    "# все хорошо"
   ]
  },
  {
   "cell_type": "markdown",
   "id": "12c44707",
   "metadata": {},
   "source": [
    "### 1.2 Расчеты"
   ]
  },
  {
   "cell_type": "markdown",
   "id": "ba8a21ff",
   "metadata": {},
   "source": [
    "Рассчитаем **количество сделанных звонков и израсходованных минут разговора по месяцам**.\n",
    "\n",
    "Также если для пользователя в каком-то месяце нет звонков, заполним эти ячейки нулями."
   ]
  },
  {
   "cell_type": "code",
   "execution_count": 31,
   "id": "02945d9b",
   "metadata": {
    "ExecuteTime": {
     "end_time": "2024-10-09T14:55:50.104401Z",
     "start_time": "2024-10-09T14:55:50.011141Z"
    },
    "scrolled": true
   },
   "outputs": [
    {
     "data": {
      "text/html": [
       "<div>\n",
       "<style scoped>\n",
       "    .dataframe tbody tr th:only-of-type {\n",
       "        vertical-align: middle;\n",
       "    }\n",
       "\n",
       "    .dataframe tbody tr th {\n",
       "        vertical-align: top;\n",
       "    }\n",
       "\n",
       "    .dataframe thead th {\n",
       "        text-align: right;\n",
       "    }\n",
       "</style>\n",
       "<table border=\"1\" class=\"dataframe\">\n",
       "  <thead>\n",
       "    <tr style=\"text-align: right;\">\n",
       "      <th></th>\n",
       "      <th>user_id</th>\n",
       "      <th>month</th>\n",
       "      <th>calls</th>\n",
       "      <th>minutes</th>\n",
       "    </tr>\n",
       "  </thead>\n",
       "  <tbody>\n",
       "    <tr>\n",
       "      <th>0</th>\n",
       "      <td>1000</td>\n",
       "      <td>August</td>\n",
       "      <td>52</td>\n",
       "      <td>408</td>\n",
       "    </tr>\n",
       "    <tr>\n",
       "      <th>1</th>\n",
       "      <td>1000</td>\n",
       "      <td>December</td>\n",
       "      <td>46</td>\n",
       "      <td>333</td>\n",
       "    </tr>\n",
       "    <tr>\n",
       "      <th>2</th>\n",
       "      <td>1000</td>\n",
       "      <td>July</td>\n",
       "      <td>47</td>\n",
       "      <td>340</td>\n",
       "    </tr>\n",
       "    <tr>\n",
       "      <th>3</th>\n",
       "      <td>1000</td>\n",
       "      <td>June</td>\n",
       "      <td>43</td>\n",
       "      <td>172</td>\n",
       "    </tr>\n",
       "    <tr>\n",
       "      <th>4</th>\n",
       "      <td>1000</td>\n",
       "      <td>May</td>\n",
       "      <td>22</td>\n",
       "      <td>159</td>\n",
       "    </tr>\n",
       "    <tr>\n",
       "      <th>...</th>\n",
       "      <td>...</td>\n",
       "      <td>...</td>\n",
       "      <td>...</td>\n",
       "      <td>...</td>\n",
       "    </tr>\n",
       "    <tr>\n",
       "      <th>3169</th>\n",
       "      <td>1498</td>\n",
       "      <td>September</td>\n",
       "      <td>59</td>\n",
       "      <td>471</td>\n",
       "    </tr>\n",
       "    <tr>\n",
       "      <th>3170</th>\n",
       "      <td>1499</td>\n",
       "      <td>December</td>\n",
       "      <td>69</td>\n",
       "      <td>492</td>\n",
       "    </tr>\n",
       "    <tr>\n",
       "      <th>3171</th>\n",
       "      <td>1499</td>\n",
       "      <td>November</td>\n",
       "      <td>74</td>\n",
       "      <td>612</td>\n",
       "    </tr>\n",
       "    <tr>\n",
       "      <th>3172</th>\n",
       "      <td>1499</td>\n",
       "      <td>October</td>\n",
       "      <td>68</td>\n",
       "      <td>449</td>\n",
       "    </tr>\n",
       "    <tr>\n",
       "      <th>3173</th>\n",
       "      <td>1499</td>\n",
       "      <td>September</td>\n",
       "      <td>9</td>\n",
       "      <td>70</td>\n",
       "    </tr>\n",
       "  </tbody>\n",
       "</table>\n",
       "<p>3174 rows × 4 columns</p>\n",
       "</div>"
      ],
      "text/plain": [
       "      user_id      month  calls  minutes\n",
       "0        1000     August     52      408\n",
       "1        1000   December     46      333\n",
       "2        1000       July     47      340\n",
       "3        1000       June     43      172\n",
       "4        1000        May     22      159\n",
       "...       ...        ...    ...      ...\n",
       "3169     1498  September     59      471\n",
       "3170     1499   December     69      492\n",
       "3171     1499   November     74      612\n",
       "3172     1499    October     68      449\n",
       "3173     1499  September      9       70\n",
       "\n",
       "[3174 rows x 4 columns]"
      ]
     },
     "execution_count": 31,
     "metadata": {},
     "output_type": "execute_result"
    }
   ],
   "source": [
    "calls_pivot = calls.pivot_table(\n",
    "    index = ['user_id','call_month'],\n",
    "    values = 'duration',\n",
    "    aggfunc = ['count', 'sum'],\n",
    "    fill_value = 0\n",
    ").reset_index()\n",
    "\n",
    "calls_pivot.columns = ['user_id', 'month', 'calls', 'minutes']\n",
    "\n",
    "calls_pivot"
   ]
  },
  {
   "cell_type": "markdown",
   "id": "f7a84d9e",
   "metadata": {},
   "source": [
    "Теперь рассчитаем **количество отправленных сообщений по месяцам**."
   ]
  },
  {
   "cell_type": "code",
   "execution_count": 32,
   "id": "9ee930a1",
   "metadata": {
    "ExecuteTime": {
     "end_time": "2024-10-09T14:55:50.421891Z",
     "start_time": "2024-10-09T14:55:50.380533Z"
    },
    "scrolled": true
   },
   "outputs": [
    {
     "data": {
      "text/html": [
       "<div>\n",
       "<style scoped>\n",
       "    .dataframe tbody tr th:only-of-type {\n",
       "        vertical-align: middle;\n",
       "    }\n",
       "\n",
       "    .dataframe tbody tr th {\n",
       "        vertical-align: top;\n",
       "    }\n",
       "\n",
       "    .dataframe thead th {\n",
       "        text-align: right;\n",
       "    }\n",
       "</style>\n",
       "<table border=\"1\" class=\"dataframe\">\n",
       "  <thead>\n",
       "    <tr style=\"text-align: right;\">\n",
       "      <th></th>\n",
       "      <th>user_id</th>\n",
       "      <th>month</th>\n",
       "      <th>messages</th>\n",
       "    </tr>\n",
       "  </thead>\n",
       "  <tbody>\n",
       "    <tr>\n",
       "      <th>0</th>\n",
       "      <td>1000</td>\n",
       "      <td>August</td>\n",
       "      <td>81</td>\n",
       "    </tr>\n",
       "    <tr>\n",
       "      <th>1</th>\n",
       "      <td>1000</td>\n",
       "      <td>December</td>\n",
       "      <td>70</td>\n",
       "    </tr>\n",
       "    <tr>\n",
       "      <th>2</th>\n",
       "      <td>1000</td>\n",
       "      <td>July</td>\n",
       "      <td>75</td>\n",
       "    </tr>\n",
       "    <tr>\n",
       "      <th>3</th>\n",
       "      <td>1000</td>\n",
       "      <td>June</td>\n",
       "      <td>60</td>\n",
       "    </tr>\n",
       "    <tr>\n",
       "      <th>4</th>\n",
       "      <td>1000</td>\n",
       "      <td>May</td>\n",
       "      <td>22</td>\n",
       "    </tr>\n",
       "    <tr>\n",
       "      <th>...</th>\n",
       "      <td>...</td>\n",
       "      <td>...</td>\n",
       "      <td>...</td>\n",
       "    </tr>\n",
       "    <tr>\n",
       "      <th>2712</th>\n",
       "      <td>1498</td>\n",
       "      <td>September</td>\n",
       "      <td>44</td>\n",
       "    </tr>\n",
       "    <tr>\n",
       "      <th>2713</th>\n",
       "      <td>1499</td>\n",
       "      <td>December</td>\n",
       "      <td>66</td>\n",
       "    </tr>\n",
       "    <tr>\n",
       "      <th>2714</th>\n",
       "      <td>1499</td>\n",
       "      <td>November</td>\n",
       "      <td>59</td>\n",
       "    </tr>\n",
       "    <tr>\n",
       "      <th>2715</th>\n",
       "      <td>1499</td>\n",
       "      <td>October</td>\n",
       "      <td>48</td>\n",
       "    </tr>\n",
       "    <tr>\n",
       "      <th>2716</th>\n",
       "      <td>1499</td>\n",
       "      <td>September</td>\n",
       "      <td>11</td>\n",
       "    </tr>\n",
       "  </tbody>\n",
       "</table>\n",
       "<p>2717 rows × 3 columns</p>\n",
       "</div>"
      ],
      "text/plain": [
       "      user_id      month  messages\n",
       "0        1000     August        81\n",
       "1        1000   December        70\n",
       "2        1000       July        75\n",
       "3        1000       June        60\n",
       "4        1000        May        22\n",
       "...       ...        ...       ...\n",
       "2712     1498  September        44\n",
       "2713     1499   December        66\n",
       "2714     1499   November        59\n",
       "2715     1499    October        48\n",
       "2716     1499  September        11\n",
       "\n",
       "[2717 rows x 3 columns]"
      ]
     },
     "execution_count": 32,
     "metadata": {},
     "output_type": "execute_result"
    }
   ],
   "source": [
    "messages_pivot = messages.pivot_table(\n",
    "    index = ['user_id','message_month'],\n",
    "    values = 'id',\n",
    "    aggfunc = 'count',\n",
    "    fill_value = 0\n",
    ").reset_index().rename(columns={'id': 'messages', 'message_month': 'month'})\n",
    "\n",
    "messages_pivot"
   ]
  },
  {
   "cell_type": "markdown",
   "id": "5973ac0c",
   "metadata": {},
   "source": [
    "Рассчитаем **объем израсходованного интернет-трафика по месяцам**."
   ]
  },
  {
   "cell_type": "code",
   "execution_count": 33,
   "id": "6515e2de",
   "metadata": {
    "ExecuteTime": {
     "end_time": "2024-10-09T14:55:50.791040Z",
     "start_time": "2024-10-09T14:55:50.743862Z"
    }
   },
   "outputs": [
    {
     "data": {
      "text/html": [
       "<div>\n",
       "<style scoped>\n",
       "    .dataframe tbody tr th:only-of-type {\n",
       "        vertical-align: middle;\n",
       "    }\n",
       "\n",
       "    .dataframe tbody tr th {\n",
       "        vertical-align: top;\n",
       "    }\n",
       "\n",
       "    .dataframe thead th {\n",
       "        text-align: right;\n",
       "    }\n",
       "</style>\n",
       "<table border=\"1\" class=\"dataframe\">\n",
       "  <thead>\n",
       "    <tr style=\"text-align: right;\">\n",
       "      <th></th>\n",
       "      <th>user_id</th>\n",
       "      <th>month</th>\n",
       "      <th>gb_used</th>\n",
       "    </tr>\n",
       "  </thead>\n",
       "  <tbody>\n",
       "    <tr>\n",
       "      <th>0</th>\n",
       "      <td>1000</td>\n",
       "      <td>August</td>\n",
       "      <td>27</td>\n",
       "    </tr>\n",
       "    <tr>\n",
       "      <th>1</th>\n",
       "      <td>1000</td>\n",
       "      <td>December</td>\n",
       "      <td>19</td>\n",
       "    </tr>\n",
       "    <tr>\n",
       "      <th>2</th>\n",
       "      <td>1000</td>\n",
       "      <td>July</td>\n",
       "      <td>28</td>\n",
       "    </tr>\n",
       "    <tr>\n",
       "      <th>3</th>\n",
       "      <td>1000</td>\n",
       "      <td>June</td>\n",
       "      <td>49</td>\n",
       "    </tr>\n",
       "    <tr>\n",
       "      <th>4</th>\n",
       "      <td>1000</td>\n",
       "      <td>May</td>\n",
       "      <td>4</td>\n",
       "    </tr>\n",
       "    <tr>\n",
       "      <th>...</th>\n",
       "      <td>...</td>\n",
       "      <td>...</td>\n",
       "      <td>...</td>\n",
       "    </tr>\n",
       "    <tr>\n",
       "      <th>3198</th>\n",
       "      <td>1498</td>\n",
       "      <td>September</td>\n",
       "      <td>58</td>\n",
       "    </tr>\n",
       "    <tr>\n",
       "      <th>3199</th>\n",
       "      <td>1499</td>\n",
       "      <td>December</td>\n",
       "      <td>40</td>\n",
       "    </tr>\n",
       "    <tr>\n",
       "      <th>3200</th>\n",
       "      <td>1499</td>\n",
       "      <td>November</td>\n",
       "      <td>41</td>\n",
       "    </tr>\n",
       "    <tr>\n",
       "      <th>3201</th>\n",
       "      <td>1499</td>\n",
       "      <td>October</td>\n",
       "      <td>44</td>\n",
       "    </tr>\n",
       "    <tr>\n",
       "      <th>3202</th>\n",
       "      <td>1499</td>\n",
       "      <td>September</td>\n",
       "      <td>5</td>\n",
       "    </tr>\n",
       "  </tbody>\n",
       "</table>\n",
       "<p>3203 rows × 3 columns</p>\n",
       "</div>"
      ],
      "text/plain": [
       "      user_id      month  gb_used\n",
       "0        1000     August       27\n",
       "1        1000   December       19\n",
       "2        1000       July       28\n",
       "3        1000       June       49\n",
       "4        1000        May        4\n",
       "...       ...        ...      ...\n",
       "3198     1498  September       58\n",
       "3199     1499   December       40\n",
       "3200     1499   November       41\n",
       "3201     1499    October       44\n",
       "3202     1499  September        5\n",
       "\n",
       "[3203 rows x 3 columns]"
      ]
     },
     "execution_count": 33,
     "metadata": {},
     "output_type": "execute_result"
    }
   ],
   "source": [
    "internet_pivot = internet.pivot_table(\n",
    "    index = ['user_id','session_month'],\n",
    "    values = 'gb_used',\n",
    "    aggfunc = 'sum',\n",
    "    fill_value = 0\n",
    ").reset_index().rename(columns={'session_month': 'month'})\n",
    "\n",
    "internet_pivot"
   ]
  },
  {
   "cell_type": "markdown",
   "id": "c16f052c",
   "metadata": {},
   "source": [
    "Теперь рассчитаем **помесячную выручку с каждого пользователя**."
   ]
  },
  {
   "cell_type": "code",
   "execution_count": 34,
   "id": "933c9cff",
   "metadata": {
    "ExecuteTime": {
     "end_time": "2024-10-09T14:55:51.147152Z",
     "start_time": "2024-10-09T14:55:51.117221Z"
    }
   },
   "outputs": [
    {
     "name": "stdout",
     "output_type": "stream",
     "text": [
      "   user_id      month  calls  minutes  messages  gb_used tariff       city  \\\n",
      "0     1000     August   52.0    408.0      81.0     27.0  ultra  Краснодар   \n",
      "1     1000   December   46.0    333.0      70.0     19.0  ultra  Краснодар   \n",
      "2     1000       July   47.0    340.0      75.0     28.0  ultra  Краснодар   \n",
      "3     1000       June   43.0    172.0      60.0     49.0  ultra  Краснодар   \n",
      "4     1000        May   22.0    159.0      22.0      4.0  ultra  Краснодар   \n",
      "5     1000   November   43.0    338.0      58.0     27.0  ultra  Краснодар   \n",
      "6     1000    October   57.0    350.0      73.0     28.0  ultra  Краснодар   \n",
      "7     1000  September   58.0    466.0      57.0     26.0  ultra  Краснодар   \n",
      "8     1001   December   63.0    414.0       0.0     35.0  smart     Москва   \n",
      "9     1001   November   59.0    430.0       0.0     47.0  smart     Москва   \n",
      "\n",
      "   messages_included  gb_per_month_included  minutes_included  \\\n",
      "0               1000                   30.0              3000   \n",
      "1               1000                   30.0              3000   \n",
      "2               1000                   30.0              3000   \n",
      "3               1000                   30.0              3000   \n",
      "4               1000                   30.0              3000   \n",
      "5               1000                   30.0              3000   \n",
      "6               1000                   30.0              3000   \n",
      "7               1000                   30.0              3000   \n",
      "8                 50                   15.0               500   \n",
      "9                 50                   15.0               500   \n",
      "\n",
      "   rub_monthly_fee  rub_per_gb  rub_per_message  rub_per_minute  \n",
      "0             1950         150                1               1  \n",
      "1             1950         150                1               1  \n",
      "2             1950         150                1               1  \n",
      "3             1950         150                1               1  \n",
      "4             1950         150                1               1  \n",
      "5             1950         150                1               1  \n",
      "6             1950         150                1               1  \n",
      "7             1950         150                1               1  \n",
      "8              550         200                3               3  \n",
      "9              550         200                3               3  \n",
      "<class 'pandas.core.frame.DataFrame'>\n",
      "RangeIndex: 3214 entries, 0 to 3213\n",
      "Data columns (total 15 columns):\n",
      " #   Column                 Non-Null Count  Dtype  \n",
      "---  ------                 --------------  -----  \n",
      " 0   user_id                3214 non-null   int64  \n",
      " 1   month                  3214 non-null   object \n",
      " 2   calls                  3214 non-null   float64\n",
      " 3   minutes                3214 non-null   float64\n",
      " 4   messages               3214 non-null   float64\n",
      " 5   gb_used                3214 non-null   float64\n",
      " 6   tariff                 3214 non-null   object \n",
      " 7   city                   3214 non-null   object \n",
      " 8   messages_included      3214 non-null   int64  \n",
      " 9   gb_per_month_included  3214 non-null   float64\n",
      " 10  minutes_included       3214 non-null   int64  \n",
      " 11  rub_monthly_fee        3214 non-null   int64  \n",
      " 12  rub_per_gb             3214 non-null   int64  \n",
      " 13  rub_per_message        3214 non-null   int64  \n",
      " 14  rub_per_minute         3214 non-null   int64  \n",
      "dtypes: float64(5), int64(7), object(3)\n",
      "memory usage: 376.8+ KB\n"
     ]
    }
   ],
   "source": [
    "# для начала объеденим всё в одну таблицу\n",
    "data = pd.merge(calls_pivot, messages_pivot, on=['user_id','month'], how='outer').fillna(0)\n",
    "data = pd.merge(data, internet_pivot, on=['user_id','month'], how='outer').fillna(0)\n",
    "\n",
    "# добавим также данные из таблицы пользователей\n",
    "data = pd.merge(data, users[['user_id','tariff','city']], on='user_id')\n",
    "\n",
    "# теперь объединим таблицу с tariffs\n",
    "data = pd.merge(data, tariffs, on='tariff', how='left')\n",
    "\n",
    "print(data.head(10))\n",
    "data.info()"
   ]
  },
  {
   "cell_type": "code",
   "execution_count": 35,
   "id": "21716afb",
   "metadata": {
    "ExecuteTime": {
     "end_time": "2024-10-09T14:55:51.323772Z",
     "start_time": "2024-10-09T14:55:51.303317Z"
    }
   },
   "outputs": [
    {
     "name": "stdout",
     "output_type": "stream",
     "text": [
      "<class 'pandas.core.frame.DataFrame'>\n",
      "RangeIndex: 3214 entries, 0 to 3213\n",
      "Data columns (total 15 columns):\n",
      " #   Column                 Non-Null Count  Dtype \n",
      "---  ------                 --------------  ----- \n",
      " 0   user_id                3214 non-null   int64 \n",
      " 1   month                  3214 non-null   object\n",
      " 2   calls                  3214 non-null   int32 \n",
      " 3   minutes                3214 non-null   int32 \n",
      " 4   messages               3214 non-null   int32 \n",
      " 5   gb_used                3214 non-null   int32 \n",
      " 6   tariff                 3214 non-null   object\n",
      " 7   city                   3214 non-null   object\n",
      " 8   messages_included      3214 non-null   int64 \n",
      " 9   gb_per_month_included  3214 non-null   int32 \n",
      " 10  minutes_included       3214 non-null   int64 \n",
      " 11  rub_monthly_fee        3214 non-null   int64 \n",
      " 12  rub_per_gb             3214 non-null   int64 \n",
      " 13  rub_per_message        3214 non-null   int64 \n",
      " 14  rub_per_minute         3214 non-null   int64 \n",
      "dtypes: int32(5), int64(7), object(3)\n",
      "memory usage: 314.0+ KB\n"
     ]
    },
    {
     "data": {
      "text/html": [
       "<div>\n",
       "<style scoped>\n",
       "    .dataframe tbody tr th:only-of-type {\n",
       "        vertical-align: middle;\n",
       "    }\n",
       "\n",
       "    .dataframe tbody tr th {\n",
       "        vertical-align: top;\n",
       "    }\n",
       "\n",
       "    .dataframe thead th {\n",
       "        text-align: right;\n",
       "    }\n",
       "</style>\n",
       "<table border=\"1\" class=\"dataframe\">\n",
       "  <thead>\n",
       "    <tr style=\"text-align: right;\">\n",
       "      <th></th>\n",
       "      <th>user_id</th>\n",
       "      <th>month</th>\n",
       "      <th>calls</th>\n",
       "      <th>minutes</th>\n",
       "      <th>messages</th>\n",
       "      <th>gb_used</th>\n",
       "      <th>tariff</th>\n",
       "      <th>city</th>\n",
       "      <th>messages_included</th>\n",
       "      <th>gb_per_month_included</th>\n",
       "      <th>minutes_included</th>\n",
       "      <th>rub_monthly_fee</th>\n",
       "      <th>rub_per_gb</th>\n",
       "      <th>rub_per_message</th>\n",
       "      <th>rub_per_minute</th>\n",
       "    </tr>\n",
       "  </thead>\n",
       "  <tbody>\n",
       "    <tr>\n",
       "      <th>0</th>\n",
       "      <td>1000</td>\n",
       "      <td>August</td>\n",
       "      <td>52</td>\n",
       "      <td>408</td>\n",
       "      <td>81</td>\n",
       "      <td>27</td>\n",
       "      <td>ultra</td>\n",
       "      <td>Краснодар</td>\n",
       "      <td>1000</td>\n",
       "      <td>30</td>\n",
       "      <td>3000</td>\n",
       "      <td>1950</td>\n",
       "      <td>150</td>\n",
       "      <td>1</td>\n",
       "      <td>1</td>\n",
       "    </tr>\n",
       "    <tr>\n",
       "      <th>1</th>\n",
       "      <td>1000</td>\n",
       "      <td>December</td>\n",
       "      <td>46</td>\n",
       "      <td>333</td>\n",
       "      <td>70</td>\n",
       "      <td>19</td>\n",
       "      <td>ultra</td>\n",
       "      <td>Краснодар</td>\n",
       "      <td>1000</td>\n",
       "      <td>30</td>\n",
       "      <td>3000</td>\n",
       "      <td>1950</td>\n",
       "      <td>150</td>\n",
       "      <td>1</td>\n",
       "      <td>1</td>\n",
       "    </tr>\n",
       "    <tr>\n",
       "      <th>2</th>\n",
       "      <td>1000</td>\n",
       "      <td>July</td>\n",
       "      <td>47</td>\n",
       "      <td>340</td>\n",
       "      <td>75</td>\n",
       "      <td>28</td>\n",
       "      <td>ultra</td>\n",
       "      <td>Краснодар</td>\n",
       "      <td>1000</td>\n",
       "      <td>30</td>\n",
       "      <td>3000</td>\n",
       "      <td>1950</td>\n",
       "      <td>150</td>\n",
       "      <td>1</td>\n",
       "      <td>1</td>\n",
       "    </tr>\n",
       "    <tr>\n",
       "      <th>3</th>\n",
       "      <td>1000</td>\n",
       "      <td>June</td>\n",
       "      <td>43</td>\n",
       "      <td>172</td>\n",
       "      <td>60</td>\n",
       "      <td>49</td>\n",
       "      <td>ultra</td>\n",
       "      <td>Краснодар</td>\n",
       "      <td>1000</td>\n",
       "      <td>30</td>\n",
       "      <td>3000</td>\n",
       "      <td>1950</td>\n",
       "      <td>150</td>\n",
       "      <td>1</td>\n",
       "      <td>1</td>\n",
       "    </tr>\n",
       "    <tr>\n",
       "      <th>4</th>\n",
       "      <td>1000</td>\n",
       "      <td>May</td>\n",
       "      <td>22</td>\n",
       "      <td>159</td>\n",
       "      <td>22</td>\n",
       "      <td>4</td>\n",
       "      <td>ultra</td>\n",
       "      <td>Краснодар</td>\n",
       "      <td>1000</td>\n",
       "      <td>30</td>\n",
       "      <td>3000</td>\n",
       "      <td>1950</td>\n",
       "      <td>150</td>\n",
       "      <td>1</td>\n",
       "      <td>1</td>\n",
       "    </tr>\n",
       "    <tr>\n",
       "      <th>5</th>\n",
       "      <td>1000</td>\n",
       "      <td>November</td>\n",
       "      <td>43</td>\n",
       "      <td>338</td>\n",
       "      <td>58</td>\n",
       "      <td>27</td>\n",
       "      <td>ultra</td>\n",
       "      <td>Краснодар</td>\n",
       "      <td>1000</td>\n",
       "      <td>30</td>\n",
       "      <td>3000</td>\n",
       "      <td>1950</td>\n",
       "      <td>150</td>\n",
       "      <td>1</td>\n",
       "      <td>1</td>\n",
       "    </tr>\n",
       "    <tr>\n",
       "      <th>6</th>\n",
       "      <td>1000</td>\n",
       "      <td>October</td>\n",
       "      <td>57</td>\n",
       "      <td>350</td>\n",
       "      <td>73</td>\n",
       "      <td>28</td>\n",
       "      <td>ultra</td>\n",
       "      <td>Краснодар</td>\n",
       "      <td>1000</td>\n",
       "      <td>30</td>\n",
       "      <td>3000</td>\n",
       "      <td>1950</td>\n",
       "      <td>150</td>\n",
       "      <td>1</td>\n",
       "      <td>1</td>\n",
       "    </tr>\n",
       "    <tr>\n",
       "      <th>7</th>\n",
       "      <td>1000</td>\n",
       "      <td>September</td>\n",
       "      <td>58</td>\n",
       "      <td>466</td>\n",
       "      <td>57</td>\n",
       "      <td>26</td>\n",
       "      <td>ultra</td>\n",
       "      <td>Краснодар</td>\n",
       "      <td>1000</td>\n",
       "      <td>30</td>\n",
       "      <td>3000</td>\n",
       "      <td>1950</td>\n",
       "      <td>150</td>\n",
       "      <td>1</td>\n",
       "      <td>1</td>\n",
       "    </tr>\n",
       "    <tr>\n",
       "      <th>8</th>\n",
       "      <td>1001</td>\n",
       "      <td>December</td>\n",
       "      <td>63</td>\n",
       "      <td>414</td>\n",
       "      <td>0</td>\n",
       "      <td>35</td>\n",
       "      <td>smart</td>\n",
       "      <td>Москва</td>\n",
       "      <td>50</td>\n",
       "      <td>15</td>\n",
       "      <td>500</td>\n",
       "      <td>550</td>\n",
       "      <td>200</td>\n",
       "      <td>3</td>\n",
       "      <td>3</td>\n",
       "    </tr>\n",
       "    <tr>\n",
       "      <th>9</th>\n",
       "      <td>1001</td>\n",
       "      <td>November</td>\n",
       "      <td>59</td>\n",
       "      <td>430</td>\n",
       "      <td>0</td>\n",
       "      <td>47</td>\n",
       "      <td>smart</td>\n",
       "      <td>Москва</td>\n",
       "      <td>50</td>\n",
       "      <td>15</td>\n",
       "      <td>500</td>\n",
       "      <td>550</td>\n",
       "      <td>200</td>\n",
       "      <td>3</td>\n",
       "      <td>3</td>\n",
       "    </tr>\n",
       "  </tbody>\n",
       "</table>\n",
       "</div>"
      ],
      "text/plain": [
       "   user_id      month  calls  minutes  messages  gb_used tariff       city  \\\n",
       "0     1000     August     52      408        81       27  ultra  Краснодар   \n",
       "1     1000   December     46      333        70       19  ultra  Краснодар   \n",
       "2     1000       July     47      340        75       28  ultra  Краснодар   \n",
       "3     1000       June     43      172        60       49  ultra  Краснодар   \n",
       "4     1000        May     22      159        22        4  ultra  Краснодар   \n",
       "5     1000   November     43      338        58       27  ultra  Краснодар   \n",
       "6     1000    October     57      350        73       28  ultra  Краснодар   \n",
       "7     1000  September     58      466        57       26  ultra  Краснодар   \n",
       "8     1001   December     63      414         0       35  smart     Москва   \n",
       "9     1001   November     59      430         0       47  smart     Москва   \n",
       "\n",
       "   messages_included  gb_per_month_included  minutes_included  \\\n",
       "0               1000                     30              3000   \n",
       "1               1000                     30              3000   \n",
       "2               1000                     30              3000   \n",
       "3               1000                     30              3000   \n",
       "4               1000                     30              3000   \n",
       "5               1000                     30              3000   \n",
       "6               1000                     30              3000   \n",
       "7               1000                     30              3000   \n",
       "8                 50                     15               500   \n",
       "9                 50                     15               500   \n",
       "\n",
       "   rub_monthly_fee  rub_per_gb  rub_per_message  rub_per_minute  \n",
       "0             1950         150                1               1  \n",
       "1             1950         150                1               1  \n",
       "2             1950         150                1               1  \n",
       "3             1950         150                1               1  \n",
       "4             1950         150                1               1  \n",
       "5             1950         150                1               1  \n",
       "6             1950         150                1               1  \n",
       "7             1950         150                1               1  \n",
       "8              550         200                3               3  \n",
       "9              550         200                3               3  "
      ]
     },
     "execution_count": 35,
     "metadata": {},
     "output_type": "execute_result"
    }
   ],
   "source": [
    "data['calls'] = data.calls.astype('int')\n",
    "data['minutes'] = data.minutes.astype('int')\n",
    "data['messages'] = data.messages.astype('int')\n",
    "data['gb_used'] = data.gb_used.astype('int')\n",
    "data['gb_per_month_included'] = data.gb_per_month_included.astype('int')\n",
    "\n",
    "data.info()\n",
    "data.head(10)"
   ]
  },
  {
   "cell_type": "markdown",
   "id": "9709ac2b",
   "metadata": {},
   "source": [
    "*Чтобы рассчитать помесячную выручку с каждого пользователя, нужно вычесть бесплатный лимит из суммарного количества звонков, сообщений и интернет-трафика; остаток умножить на значение из тарифного плана; прибавить абонентскую плату, соответствующую тарифному плану.*"
   ]
  },
  {
   "cell_type": "code",
   "execution_count": 36,
   "id": "f1750da4",
   "metadata": {
    "ExecuteTime": {
     "end_time": "2024-10-09T14:55:51.785984Z",
     "start_time": "2024-10-09T14:55:51.681227Z"
    }
   },
   "outputs": [
    {
     "data": {
      "text/html": [
       "<div>\n",
       "<style scoped>\n",
       "    .dataframe tbody tr th:only-of-type {\n",
       "        vertical-align: middle;\n",
       "    }\n",
       "\n",
       "    .dataframe tbody tr th {\n",
       "        vertical-align: top;\n",
       "    }\n",
       "\n",
       "    .dataframe thead th {\n",
       "        text-align: right;\n",
       "    }\n",
       "</style>\n",
       "<table border=\"1\" class=\"dataframe\">\n",
       "  <thead>\n",
       "    <tr style=\"text-align: right;\">\n",
       "      <th></th>\n",
       "      <th>user_id</th>\n",
       "      <th>month</th>\n",
       "      <th>monthly_revenue</th>\n",
       "      <th>yearly_revenue</th>\n",
       "    </tr>\n",
       "  </thead>\n",
       "  <tbody>\n",
       "    <tr>\n",
       "      <th>624</th>\n",
       "      <td>1099</td>\n",
       "      <td>October</td>\n",
       "      <td>1950</td>\n",
       "      <td>23250</td>\n",
       "    </tr>\n",
       "    <tr>\n",
       "      <th>2978</th>\n",
       "      <td>1468</td>\n",
       "      <td>July</td>\n",
       "      <td>5750</td>\n",
       "      <td>42850</td>\n",
       "    </tr>\n",
       "    <tr>\n",
       "      <th>1538</th>\n",
       "      <td>1247</td>\n",
       "      <td>December</td>\n",
       "      <td>9273</td>\n",
       "      <td>61155</td>\n",
       "    </tr>\n",
       "    <tr>\n",
       "      <th>585</th>\n",
       "      <td>1094</td>\n",
       "      <td>December</td>\n",
       "      <td>3900</td>\n",
       "      <td>27600</td>\n",
       "    </tr>\n",
       "    <tr>\n",
       "      <th>1656</th>\n",
       "      <td>1266</td>\n",
       "      <td>August</td>\n",
       "      <td>6350</td>\n",
       "      <td>30274</td>\n",
       "    </tr>\n",
       "    <tr>\n",
       "      <th>1141</th>\n",
       "      <td>1180</td>\n",
       "      <td>December</td>\n",
       "      <td>5850</td>\n",
       "      <td>74100</td>\n",
       "    </tr>\n",
       "    <tr>\n",
       "      <th>3005</th>\n",
       "      <td>1472</td>\n",
       "      <td>April</td>\n",
       "      <td>8050</td>\n",
       "      <td>93328</td>\n",
       "    </tr>\n",
       "    <tr>\n",
       "      <th>2360</th>\n",
       "      <td>1377</td>\n",
       "      <td>August</td>\n",
       "      <td>1950</td>\n",
       "      <td>21450</td>\n",
       "    </tr>\n",
       "    <tr>\n",
       "      <th>2324</th>\n",
       "      <td>1373</td>\n",
       "      <td>March</td>\n",
       "      <td>10365</td>\n",
       "      <td>92263</td>\n",
       "    </tr>\n",
       "    <tr>\n",
       "      <th>437</th>\n",
       "      <td>1068</td>\n",
       "      <td>August</td>\n",
       "      <td>11316</td>\n",
       "      <td>53331</td>\n",
       "    </tr>\n",
       "  </tbody>\n",
       "</table>\n",
       "</div>"
      ],
      "text/plain": [
       "      user_id     month  monthly_revenue  yearly_revenue\n",
       "624      1099   October             1950           23250\n",
       "2978     1468      July             5750           42850\n",
       "1538     1247  December             9273           61155\n",
       "585      1094  December             3900           27600\n",
       "1656     1266    August             6350           30274\n",
       "1141     1180  December             5850           74100\n",
       "3005     1472     April             8050           93328\n",
       "2360     1377    August             1950           21450\n",
       "2324     1373     March            10365           92263\n",
       "437      1068    August            11316           53331"
      ]
     },
     "execution_count": 36,
     "metadata": {},
     "output_type": "execute_result"
    }
   ],
   "source": [
    "# напишем функцию для расчета помесячной выручки\n",
    "def calculate_revenue(row):\n",
    "    # вычислим сверхлимитные звонки, сообщения и интернет\n",
    "    extra_minutes = max(0, row['minutes'] - row['minutes_included'])\n",
    "    extra_messages = max(0, row['messages'] - row['messages_included'])\n",
    "    extra_gb = max(0, row['gb_used'] - row['gb_per_month_included'])\n",
    "    \n",
    "    # рассчитаем выручку за сверхлимитные услуги\n",
    "    revenue_minutes = extra_minutes * row['rub_per_minute']\n",
    "    revenue_messages = extra_messages * row['rub_per_message']\n",
    "    revenue_gb = extra_gb * row['rub_per_gb']\n",
    "    \n",
    "    # полная выручка за месяц = абонентская плата + выручка за сверхлимиты\n",
    "    total_revenue = row['rub_monthly_fee'] + revenue_minutes + revenue_messages + revenue_gb\n",
    "    \n",
    "    return total_revenue\n",
    "\n",
    "\n",
    "# применим нашу функцию к каждому пользователю в каждом месяце\n",
    "data['monthly_revenue'] = data.apply(calculate_revenue, axis=1)\n",
    "# добавим столбец с годовой выручкой\n",
    "data['yearly_revenue'] = data.groupby('user_id')['monthly_revenue'].transform('sum')\n",
    "\n",
    "data[['user_id','month','monthly_revenue','yearly_revenue']].sample(10)"
   ]
  },
  {
   "cell_type": "markdown",
   "id": "aa8b2e3a",
   "metadata": {},
   "source": [
    "**Вывод по 1 шагу:**\n",
    "\n",
    "На этом этапе подготовлены данные для дальнейшего анализа, устранены возможные проблемы с типами данных и произведены все расчёты для каждого пользователя. В результате получены агрегированные данные по месяцам, на основании которых можно строить дальнейший анализ поведения клиентов и выручки для тарифов «Смарт» и «Ультра»."
   ]
  },
  {
   "cell_type": "markdown",
   "id": "3a704999",
   "metadata": {},
   "source": [
    " "
   ]
  },
  {
   "cell_type": "markdown",
   "id": "dbcfaacd",
   "metadata": {},
   "source": [
    " "
   ]
  },
  {
   "cell_type": "markdown",
   "id": "7ce44b65",
   "metadata": {},
   "source": [
    "## 2 шаг. Анализ данных"
   ]
  },
  {
   "cell_type": "markdown",
   "id": "8973d028",
   "metadata": {},
   "source": [
    "Для анализа поведения клиентов, исходя из данных по тарифам \"Смарт\" и \"Ультра\", необходимо выполнить следующие шаги:\n",
    "1) Рассчитать средние значения, дисперсию и стандартное отклонение для количества минут, сообщений и интернет-трафика по каждому тарифу.\n",
    "2) Построить гистограммы для визуализации распределений.\n",
    "3) Описать результаты на основе полученных данных."
   ]
  },
  {
   "cell_type": "markdown",
   "id": "bd09a394",
   "metadata": {},
   "source": [
    "Создадим две таблицы на основе нашей data: одну с трафиком ultra, другую с smart."
   ]
  },
  {
   "cell_type": "code",
   "execution_count": 37,
   "id": "bb5f029c",
   "metadata": {
    "ExecuteTime": {
     "end_time": "2024-10-09T14:55:53.076647Z",
     "start_time": "2024-10-09T14:55:53.061183Z"
    }
   },
   "outputs": [
    {
     "data": {
      "text/html": [
       "<div>\n",
       "<style scoped>\n",
       "    .dataframe tbody tr th:only-of-type {\n",
       "        vertical-align: middle;\n",
       "    }\n",
       "\n",
       "    .dataframe tbody tr th {\n",
       "        vertical-align: top;\n",
       "    }\n",
       "\n",
       "    .dataframe thead th {\n",
       "        text-align: right;\n",
       "    }\n",
       "</style>\n",
       "<table border=\"1\" class=\"dataframe\">\n",
       "  <thead>\n",
       "    <tr style=\"text-align: right;\">\n",
       "      <th></th>\n",
       "      <th>user_id</th>\n",
       "      <th>month</th>\n",
       "      <th>calls</th>\n",
       "      <th>minutes</th>\n",
       "      <th>messages</th>\n",
       "      <th>gb_used</th>\n",
       "      <th>tariff</th>\n",
       "      <th>city</th>\n",
       "      <th>messages_included</th>\n",
       "      <th>gb_per_month_included</th>\n",
       "      <th>minutes_included</th>\n",
       "      <th>rub_monthly_fee</th>\n",
       "      <th>rub_per_gb</th>\n",
       "      <th>rub_per_message</th>\n",
       "      <th>rub_per_minute</th>\n",
       "      <th>monthly_revenue</th>\n",
       "      <th>yearly_revenue</th>\n",
       "    </tr>\n",
       "  </thead>\n",
       "  <tbody>\n",
       "    <tr>\n",
       "      <th>0</th>\n",
       "      <td>1000</td>\n",
       "      <td>August</td>\n",
       "      <td>52</td>\n",
       "      <td>408</td>\n",
       "      <td>81</td>\n",
       "      <td>27</td>\n",
       "      <td>ultra</td>\n",
       "      <td>Краснодар</td>\n",
       "      <td>1000</td>\n",
       "      <td>30</td>\n",
       "      <td>3000</td>\n",
       "      <td>1950</td>\n",
       "      <td>150</td>\n",
       "      <td>1</td>\n",
       "      <td>1</td>\n",
       "      <td>1950</td>\n",
       "      <td>18450</td>\n",
       "    </tr>\n",
       "    <tr>\n",
       "      <th>1</th>\n",
       "      <td>1000</td>\n",
       "      <td>December</td>\n",
       "      <td>46</td>\n",
       "      <td>333</td>\n",
       "      <td>70</td>\n",
       "      <td>19</td>\n",
       "      <td>ultra</td>\n",
       "      <td>Краснодар</td>\n",
       "      <td>1000</td>\n",
       "      <td>30</td>\n",
       "      <td>3000</td>\n",
       "      <td>1950</td>\n",
       "      <td>150</td>\n",
       "      <td>1</td>\n",
       "      <td>1</td>\n",
       "      <td>1950</td>\n",
       "      <td>18450</td>\n",
       "    </tr>\n",
       "    <tr>\n",
       "      <th>2</th>\n",
       "      <td>1000</td>\n",
       "      <td>July</td>\n",
       "      <td>47</td>\n",
       "      <td>340</td>\n",
       "      <td>75</td>\n",
       "      <td>28</td>\n",
       "      <td>ultra</td>\n",
       "      <td>Краснодар</td>\n",
       "      <td>1000</td>\n",
       "      <td>30</td>\n",
       "      <td>3000</td>\n",
       "      <td>1950</td>\n",
       "      <td>150</td>\n",
       "      <td>1</td>\n",
       "      <td>1</td>\n",
       "      <td>1950</td>\n",
       "      <td>18450</td>\n",
       "    </tr>\n",
       "    <tr>\n",
       "      <th>3</th>\n",
       "      <td>1000</td>\n",
       "      <td>June</td>\n",
       "      <td>43</td>\n",
       "      <td>172</td>\n",
       "      <td>60</td>\n",
       "      <td>49</td>\n",
       "      <td>ultra</td>\n",
       "      <td>Краснодар</td>\n",
       "      <td>1000</td>\n",
       "      <td>30</td>\n",
       "      <td>3000</td>\n",
       "      <td>1950</td>\n",
       "      <td>150</td>\n",
       "      <td>1</td>\n",
       "      <td>1</td>\n",
       "      <td>4800</td>\n",
       "      <td>18450</td>\n",
       "    </tr>\n",
       "    <tr>\n",
       "      <th>4</th>\n",
       "      <td>1000</td>\n",
       "      <td>May</td>\n",
       "      <td>22</td>\n",
       "      <td>159</td>\n",
       "      <td>22</td>\n",
       "      <td>4</td>\n",
       "      <td>ultra</td>\n",
       "      <td>Краснодар</td>\n",
       "      <td>1000</td>\n",
       "      <td>30</td>\n",
       "      <td>3000</td>\n",
       "      <td>1950</td>\n",
       "      <td>150</td>\n",
       "      <td>1</td>\n",
       "      <td>1</td>\n",
       "      <td>1950</td>\n",
       "      <td>18450</td>\n",
       "    </tr>\n",
       "    <tr>\n",
       "      <th>...</th>\n",
       "      <td>...</td>\n",
       "      <td>...</td>\n",
       "      <td>...</td>\n",
       "      <td>...</td>\n",
       "      <td>...</td>\n",
       "      <td>...</td>\n",
       "      <td>...</td>\n",
       "      <td>...</td>\n",
       "      <td>...</td>\n",
       "      <td>...</td>\n",
       "      <td>...</td>\n",
       "      <td>...</td>\n",
       "      <td>...</td>\n",
       "      <td>...</td>\n",
       "      <td>...</td>\n",
       "      <td>...</td>\n",
       "      <td>...</td>\n",
       "    </tr>\n",
       "    <tr>\n",
       "      <th>3204</th>\n",
       "      <td>1473</td>\n",
       "      <td>August</td>\n",
       "      <td>0</td>\n",
       "      <td>0</td>\n",
       "      <td>17</td>\n",
       "      <td>25</td>\n",
       "      <td>ultra</td>\n",
       "      <td>Красноярск</td>\n",
       "      <td>1000</td>\n",
       "      <td>30</td>\n",
       "      <td>3000</td>\n",
       "      <td>1950</td>\n",
       "      <td>150</td>\n",
       "      <td>1</td>\n",
       "      <td>1</td>\n",
       "      <td>1950</td>\n",
       "      <td>11700</td>\n",
       "    </tr>\n",
       "    <tr>\n",
       "      <th>3205</th>\n",
       "      <td>1473</td>\n",
       "      <td>December</td>\n",
       "      <td>0</td>\n",
       "      <td>0</td>\n",
       "      <td>20</td>\n",
       "      <td>32</td>\n",
       "      <td>ultra</td>\n",
       "      <td>Красноярск</td>\n",
       "      <td>1000</td>\n",
       "      <td>30</td>\n",
       "      <td>3000</td>\n",
       "      <td>1950</td>\n",
       "      <td>150</td>\n",
       "      <td>1</td>\n",
       "      <td>1</td>\n",
       "      <td>2250</td>\n",
       "      <td>11700</td>\n",
       "    </tr>\n",
       "    <tr>\n",
       "      <th>3206</th>\n",
       "      <td>1473</td>\n",
       "      <td>November</td>\n",
       "      <td>0</td>\n",
       "      <td>0</td>\n",
       "      <td>14</td>\n",
       "      <td>40</td>\n",
       "      <td>ultra</td>\n",
       "      <td>Красноярск</td>\n",
       "      <td>1000</td>\n",
       "      <td>30</td>\n",
       "      <td>3000</td>\n",
       "      <td>1950</td>\n",
       "      <td>150</td>\n",
       "      <td>1</td>\n",
       "      <td>1</td>\n",
       "      <td>3450</td>\n",
       "      <td>11700</td>\n",
       "    </tr>\n",
       "    <tr>\n",
       "      <th>3207</th>\n",
       "      <td>1473</td>\n",
       "      <td>October</td>\n",
       "      <td>0</td>\n",
       "      <td>0</td>\n",
       "      <td>20</td>\n",
       "      <td>29</td>\n",
       "      <td>ultra</td>\n",
       "      <td>Красноярск</td>\n",
       "      <td>1000</td>\n",
       "      <td>30</td>\n",
       "      <td>3000</td>\n",
       "      <td>1950</td>\n",
       "      <td>150</td>\n",
       "      <td>1</td>\n",
       "      <td>1</td>\n",
       "      <td>1950</td>\n",
       "      <td>11700</td>\n",
       "    </tr>\n",
       "    <tr>\n",
       "      <th>3208</th>\n",
       "      <td>1473</td>\n",
       "      <td>September</td>\n",
       "      <td>0</td>\n",
       "      <td>0</td>\n",
       "      <td>19</td>\n",
       "      <td>31</td>\n",
       "      <td>ultra</td>\n",
       "      <td>Красноярск</td>\n",
       "      <td>1000</td>\n",
       "      <td>30</td>\n",
       "      <td>3000</td>\n",
       "      <td>1950</td>\n",
       "      <td>150</td>\n",
       "      <td>1</td>\n",
       "      <td>1</td>\n",
       "      <td>2100</td>\n",
       "      <td>11700</td>\n",
       "    </tr>\n",
       "  </tbody>\n",
       "</table>\n",
       "<p>985 rows × 17 columns</p>\n",
       "</div>"
      ],
      "text/plain": [
       "      user_id      month  calls  minutes  messages  gb_used tariff  \\\n",
       "0        1000     August     52      408        81       27  ultra   \n",
       "1        1000   December     46      333        70       19  ultra   \n",
       "2        1000       July     47      340        75       28  ultra   \n",
       "3        1000       June     43      172        60       49  ultra   \n",
       "4        1000        May     22      159        22        4  ultra   \n",
       "...       ...        ...    ...      ...       ...      ...    ...   \n",
       "3204     1473     August      0        0        17       25  ultra   \n",
       "3205     1473   December      0        0        20       32  ultra   \n",
       "3206     1473   November      0        0        14       40  ultra   \n",
       "3207     1473    October      0        0        20       29  ultra   \n",
       "3208     1473  September      0        0        19       31  ultra   \n",
       "\n",
       "            city  messages_included  gb_per_month_included  minutes_included  \\\n",
       "0      Краснодар               1000                     30              3000   \n",
       "1      Краснодар               1000                     30              3000   \n",
       "2      Краснодар               1000                     30              3000   \n",
       "3      Краснодар               1000                     30              3000   \n",
       "4      Краснодар               1000                     30              3000   \n",
       "...          ...                ...                    ...               ...   \n",
       "3204  Красноярск               1000                     30              3000   \n",
       "3205  Красноярск               1000                     30              3000   \n",
       "3206  Красноярск               1000                     30              3000   \n",
       "3207  Красноярск               1000                     30              3000   \n",
       "3208  Красноярск               1000                     30              3000   \n",
       "\n",
       "      rub_monthly_fee  rub_per_gb  rub_per_message  rub_per_minute  \\\n",
       "0                1950         150                1               1   \n",
       "1                1950         150                1               1   \n",
       "2                1950         150                1               1   \n",
       "3                1950         150                1               1   \n",
       "4                1950         150                1               1   \n",
       "...               ...         ...              ...             ...   \n",
       "3204             1950         150                1               1   \n",
       "3205             1950         150                1               1   \n",
       "3206             1950         150                1               1   \n",
       "3207             1950         150                1               1   \n",
       "3208             1950         150                1               1   \n",
       "\n",
       "      monthly_revenue  yearly_revenue  \n",
       "0                1950           18450  \n",
       "1                1950           18450  \n",
       "2                1950           18450  \n",
       "3                4800           18450  \n",
       "4                1950           18450  \n",
       "...               ...             ...  \n",
       "3204             1950           11700  \n",
       "3205             2250           11700  \n",
       "3206             3450           11700  \n",
       "3207             1950           11700  \n",
       "3208             2100           11700  \n",
       "\n",
       "[985 rows x 17 columns]"
      ]
     },
     "execution_count": 37,
     "metadata": {},
     "output_type": "execute_result"
    }
   ],
   "source": [
    "ultra = data[data['tariff'] == 'ultra']\n",
    "ultra"
   ]
  },
  {
   "cell_type": "code",
   "execution_count": 38,
   "id": "8a883400",
   "metadata": {
    "ExecuteTime": {
     "end_time": "2024-10-09T14:55:53.274994Z",
     "start_time": "2024-10-09T14:55:53.259055Z"
    }
   },
   "outputs": [
    {
     "data": {
      "text/html": [
       "<div>\n",
       "<style scoped>\n",
       "    .dataframe tbody tr th:only-of-type {\n",
       "        vertical-align: middle;\n",
       "    }\n",
       "\n",
       "    .dataframe tbody tr th {\n",
       "        vertical-align: top;\n",
       "    }\n",
       "\n",
       "    .dataframe thead th {\n",
       "        text-align: right;\n",
       "    }\n",
       "</style>\n",
       "<table border=\"1\" class=\"dataframe\">\n",
       "  <thead>\n",
       "    <tr style=\"text-align: right;\">\n",
       "      <th></th>\n",
       "      <th>user_id</th>\n",
       "      <th>month</th>\n",
       "      <th>calls</th>\n",
       "      <th>minutes</th>\n",
       "      <th>messages</th>\n",
       "      <th>gb_used</th>\n",
       "      <th>tariff</th>\n",
       "      <th>city</th>\n",
       "      <th>messages_included</th>\n",
       "      <th>gb_per_month_included</th>\n",
       "      <th>minutes_included</th>\n",
       "      <th>rub_monthly_fee</th>\n",
       "      <th>rub_per_gb</th>\n",
       "      <th>rub_per_message</th>\n",
       "      <th>rub_per_minute</th>\n",
       "      <th>monthly_revenue</th>\n",
       "      <th>yearly_revenue</th>\n",
       "    </tr>\n",
       "  </thead>\n",
       "  <tbody>\n",
       "    <tr>\n",
       "      <th>8</th>\n",
       "      <td>1001</td>\n",
       "      <td>December</td>\n",
       "      <td>63</td>\n",
       "      <td>414</td>\n",
       "      <td>0</td>\n",
       "      <td>35</td>\n",
       "      <td>smart</td>\n",
       "      <td>Москва</td>\n",
       "      <td>50</td>\n",
       "      <td>15</td>\n",
       "      <td>500</td>\n",
       "      <td>550</td>\n",
       "      <td>200</td>\n",
       "      <td>3</td>\n",
       "      <td>3</td>\n",
       "      <td>4550</td>\n",
       "      <td>11500</td>\n",
       "    </tr>\n",
       "    <tr>\n",
       "      <th>9</th>\n",
       "      <td>1001</td>\n",
       "      <td>November</td>\n",
       "      <td>59</td>\n",
       "      <td>430</td>\n",
       "      <td>0</td>\n",
       "      <td>47</td>\n",
       "      <td>smart</td>\n",
       "      <td>Москва</td>\n",
       "      <td>50</td>\n",
       "      <td>15</td>\n",
       "      <td>500</td>\n",
       "      <td>550</td>\n",
       "      <td>200</td>\n",
       "      <td>3</td>\n",
       "      <td>3</td>\n",
       "      <td>6950</td>\n",
       "      <td>11500</td>\n",
       "    </tr>\n",
       "    <tr>\n",
       "      <th>10</th>\n",
       "      <td>1002</td>\n",
       "      <td>August</td>\n",
       "      <td>42</td>\n",
       "      <td>289</td>\n",
       "      <td>13</td>\n",
       "      <td>50</td>\n",
       "      <td>smart</td>\n",
       "      <td>Стерлитамак</td>\n",
       "      <td>50</td>\n",
       "      <td>15</td>\n",
       "      <td>500</td>\n",
       "      <td>550</td>\n",
       "      <td>200</td>\n",
       "      <td>3</td>\n",
       "      <td>3</td>\n",
       "      <td>7550</td>\n",
       "      <td>42650</td>\n",
       "    </tr>\n",
       "    <tr>\n",
       "      <th>11</th>\n",
       "      <td>1002</td>\n",
       "      <td>December</td>\n",
       "      <td>33</td>\n",
       "      <td>236</td>\n",
       "      <td>12</td>\n",
       "      <td>52</td>\n",
       "      <td>smart</td>\n",
       "      <td>Стерлитамак</td>\n",
       "      <td>50</td>\n",
       "      <td>15</td>\n",
       "      <td>500</td>\n",
       "      <td>550</td>\n",
       "      <td>200</td>\n",
       "      <td>3</td>\n",
       "      <td>3</td>\n",
       "      <td>7950</td>\n",
       "      <td>42650</td>\n",
       "    </tr>\n",
       "    <tr>\n",
       "      <th>12</th>\n",
       "      <td>1002</td>\n",
       "      <td>July</td>\n",
       "      <td>26</td>\n",
       "      <td>214</td>\n",
       "      <td>11</td>\n",
       "      <td>45</td>\n",
       "      <td>smart</td>\n",
       "      <td>Стерлитамак</td>\n",
       "      <td>50</td>\n",
       "      <td>15</td>\n",
       "      <td>500</td>\n",
       "      <td>550</td>\n",
       "      <td>200</td>\n",
       "      <td>3</td>\n",
       "      <td>3</td>\n",
       "      <td>6550</td>\n",
       "      <td>42650</td>\n",
       "    </tr>\n",
       "    <tr>\n",
       "      <th>...</th>\n",
       "      <td>...</td>\n",
       "      <td>...</td>\n",
       "      <td>...</td>\n",
       "      <td>...</td>\n",
       "      <td>...</td>\n",
       "      <td>...</td>\n",
       "      <td>...</td>\n",
       "      <td>...</td>\n",
       "      <td>...</td>\n",
       "      <td>...</td>\n",
       "      <td>...</td>\n",
       "      <td>...</td>\n",
       "      <td>...</td>\n",
       "      <td>...</td>\n",
       "      <td>...</td>\n",
       "      <td>...</td>\n",
       "      <td>...</td>\n",
       "    </tr>\n",
       "    <tr>\n",
       "      <th>3209</th>\n",
       "      <td>1489</td>\n",
       "      <td>August</td>\n",
       "      <td>0</td>\n",
       "      <td>0</td>\n",
       "      <td>17</td>\n",
       "      <td>28</td>\n",
       "      <td>smart</td>\n",
       "      <td>Санкт-Петербург</td>\n",
       "      <td>50</td>\n",
       "      <td>15</td>\n",
       "      <td>500</td>\n",
       "      <td>550</td>\n",
       "      <td>200</td>\n",
       "      <td>3</td>\n",
       "      <td>3</td>\n",
       "      <td>3150</td>\n",
       "      <td>31950</td>\n",
       "    </tr>\n",
       "    <tr>\n",
       "      <th>3210</th>\n",
       "      <td>1489</td>\n",
       "      <td>December</td>\n",
       "      <td>0</td>\n",
       "      <td>0</td>\n",
       "      <td>35</td>\n",
       "      <td>45</td>\n",
       "      <td>smart</td>\n",
       "      <td>Санкт-Петербург</td>\n",
       "      <td>50</td>\n",
       "      <td>15</td>\n",
       "      <td>500</td>\n",
       "      <td>550</td>\n",
       "      <td>200</td>\n",
       "      <td>3</td>\n",
       "      <td>3</td>\n",
       "      <td>6550</td>\n",
       "      <td>31950</td>\n",
       "    </tr>\n",
       "    <tr>\n",
       "      <th>3211</th>\n",
       "      <td>1489</td>\n",
       "      <td>November</td>\n",
       "      <td>0</td>\n",
       "      <td>0</td>\n",
       "      <td>20</td>\n",
       "      <td>46</td>\n",
       "      <td>smart</td>\n",
       "      <td>Санкт-Петербург</td>\n",
       "      <td>50</td>\n",
       "      <td>15</td>\n",
       "      <td>500</td>\n",
       "      <td>550</td>\n",
       "      <td>200</td>\n",
       "      <td>3</td>\n",
       "      <td>3</td>\n",
       "      <td>6750</td>\n",
       "      <td>31950</td>\n",
       "    </tr>\n",
       "    <tr>\n",
       "      <th>3212</th>\n",
       "      <td>1489</td>\n",
       "      <td>October</td>\n",
       "      <td>0</td>\n",
       "      <td>0</td>\n",
       "      <td>21</td>\n",
       "      <td>52</td>\n",
       "      <td>smart</td>\n",
       "      <td>Санкт-Петербург</td>\n",
       "      <td>50</td>\n",
       "      <td>15</td>\n",
       "      <td>500</td>\n",
       "      <td>550</td>\n",
       "      <td>200</td>\n",
       "      <td>3</td>\n",
       "      <td>3</td>\n",
       "      <td>7950</td>\n",
       "      <td>31950</td>\n",
       "    </tr>\n",
       "    <tr>\n",
       "      <th>3213</th>\n",
       "      <td>1489</td>\n",
       "      <td>September</td>\n",
       "      <td>0</td>\n",
       "      <td>0</td>\n",
       "      <td>32</td>\n",
       "      <td>50</td>\n",
       "      <td>smart</td>\n",
       "      <td>Санкт-Петербург</td>\n",
       "      <td>50</td>\n",
       "      <td>15</td>\n",
       "      <td>500</td>\n",
       "      <td>550</td>\n",
       "      <td>200</td>\n",
       "      <td>3</td>\n",
       "      <td>3</td>\n",
       "      <td>7550</td>\n",
       "      <td>31950</td>\n",
       "    </tr>\n",
       "  </tbody>\n",
       "</table>\n",
       "<p>2229 rows × 17 columns</p>\n",
       "</div>"
      ],
      "text/plain": [
       "      user_id      month  calls  minutes  messages  gb_used tariff  \\\n",
       "8        1001   December     63      414         0       35  smart   \n",
       "9        1001   November     59      430         0       47  smart   \n",
       "10       1002     August     42      289        13       50  smart   \n",
       "11       1002   December     33      236        12       52  smart   \n",
       "12       1002       July     26      214        11       45  smart   \n",
       "...       ...        ...    ...      ...       ...      ...    ...   \n",
       "3209     1489     August      0        0        17       28  smart   \n",
       "3210     1489   December      0        0        35       45  smart   \n",
       "3211     1489   November      0        0        20       46  smart   \n",
       "3212     1489    October      0        0        21       52  smart   \n",
       "3213     1489  September      0        0        32       50  smart   \n",
       "\n",
       "                 city  messages_included  gb_per_month_included  \\\n",
       "8              Москва                 50                     15   \n",
       "9              Москва                 50                     15   \n",
       "10        Стерлитамак                 50                     15   \n",
       "11        Стерлитамак                 50                     15   \n",
       "12        Стерлитамак                 50                     15   \n",
       "...               ...                ...                    ...   \n",
       "3209  Санкт-Петербург                 50                     15   \n",
       "3210  Санкт-Петербург                 50                     15   \n",
       "3211  Санкт-Петербург                 50                     15   \n",
       "3212  Санкт-Петербург                 50                     15   \n",
       "3213  Санкт-Петербург                 50                     15   \n",
       "\n",
       "      minutes_included  rub_monthly_fee  rub_per_gb  rub_per_message  \\\n",
       "8                  500              550         200                3   \n",
       "9                  500              550         200                3   \n",
       "10                 500              550         200                3   \n",
       "11                 500              550         200                3   \n",
       "12                 500              550         200                3   \n",
       "...                ...              ...         ...              ...   \n",
       "3209               500              550         200                3   \n",
       "3210               500              550         200                3   \n",
       "3211               500              550         200                3   \n",
       "3212               500              550         200                3   \n",
       "3213               500              550         200                3   \n",
       "\n",
       "      rub_per_minute  monthly_revenue  yearly_revenue  \n",
       "8                  3             4550           11500  \n",
       "9                  3             6950           11500  \n",
       "10                 3             7550           42650  \n",
       "11                 3             7950           42650  \n",
       "12                 3             6550           42650  \n",
       "...              ...              ...             ...  \n",
       "3209               3             3150           31950  \n",
       "3210               3             6550           31950  \n",
       "3211               3             6750           31950  \n",
       "3212               3             7950           31950  \n",
       "3213               3             7550           31950  \n",
       "\n",
       "[2229 rows x 17 columns]"
      ]
     },
     "execution_count": 38,
     "metadata": {},
     "output_type": "execute_result"
    }
   ],
   "source": [
    "smart = data[data['tariff'] == 'smart']\n",
    "smart"
   ]
  },
  {
   "cell_type": "markdown",
   "id": "3d8ba59e",
   "metadata": {},
   "source": [
    "### 2.1 Расчет статистических показателей"
   ]
  },
  {
   "cell_type": "markdown",
   "id": "3ee3b1aa",
   "metadata": {},
   "source": [
    "Для каждого тарифа нужно рассчитать следующие статистические показатели:\n",
    "- Среднее количество минут разговора, сообщений и объема интернет-трафика.\n",
    "- Дисперсия и стандартное отклонение для этих же показателей."
   ]
  },
  {
   "cell_type": "code",
   "execution_count": 39,
   "id": "14f96f67",
   "metadata": {
    "ExecuteTime": {
     "end_time": "2024-10-09T14:55:53.885639Z",
     "start_time": "2024-10-09T14:55:53.877472Z"
    }
   },
   "outputs": [
    {
     "name": "stdout",
     "output_type": "stream",
     "text": [
      "Тариф \"Смарт\" (минуты): (417.9349484073576, 36219.315784344246, 190.3137298892128)\n",
      "Тариф \"Смарт\" (сообщения): (33.384028712427096, 796.8129584480083, 28.22787555676141)\n",
      "Тариф \"Смарт\" (интернет): (42.4181247196052, 223.29636793596418, 14.943104360739913)\n",
      "Тариф \"Ультра\" (минуты): (526.6233502538071, 100873.63339730087, 317.60609785912624)\n",
      "Тариф \"Ультра\" (сообщения): (49.36345177664975, 2285.266142544682, 47.80445735017481)\n",
      "Тариф \"Ультра\" (интернет): (38.16446700507614, 382.7757686434729, 19.564656108489945)\n"
     ]
    }
   ],
   "source": [
    "# функция для расчета метрик\n",
    "def describe_tariff(data, feature):\n",
    "    mean = data[feature].mean()\n",
    "    variance = data[feature].var()\n",
    "    stddev = data[feature].std(ddof=1)\n",
    "    return mean, variance, stddev\n",
    "\n",
    "# рассчитаем показатели для тарифа smart\n",
    "smart_minutes_stats = describe_tariff(smart, 'minutes')\n",
    "smart_messages_stats = describe_tariff(smart, 'messages')\n",
    "smart_gb_stats = describe_tariff(smart, 'gb_used')\n",
    "\n",
    "# рассчитаем показатели для тарифа ultra\n",
    "ultra_minutes_stats = describe_tariff(ultra, 'minutes')\n",
    "ultra_messages_stats = describe_tariff(ultra, 'messages')\n",
    "ultra_gb_stats = describe_tariff(ultra, 'gb_used')\n",
    "\n",
    "# выведем средние значения, дисперсии и стандартные отклонения\n",
    "print('Тариф \"Смарт\" (минуты):', smart_minutes_stats)\n",
    "print('Тариф \"Смарт\" (сообщения):', smart_messages_stats)\n",
    "print('Тариф \"Смарт\" (интернет):', smart_gb_stats)\n",
    "\n",
    "print('Тариф \"Ультра\" (минуты):', ultra_minutes_stats)\n",
    "print('Тариф \"Ультра\" (сообщения):', ultra_messages_stats)\n",
    "print('Тариф \"Ультра\" (интернет):', ultra_gb_stats)"
   ]
  },
  {
   "cell_type": "markdown",
   "id": "35806a9f",
   "metadata": {},
   "source": [
    "**Минуты разговора:** Пользователи тарифа \"Ультра\" в среднем разговаривают больше (526.62 минут) по сравнению с тарифом \"Смарт\" (417.93 минут). Это может указывать на то, что пользователи \"Ультра\" более активно используют телефон для звонков.\n",
    "\n",
    "**Сообщения:** Среднее количество сообщений для пользователей тарифа \"Ультра\" составляет 49.36, что немного выше, чем для пользователей \"Смарт\" (33.38 сообщений). Это может говорить о том, что клиенты \"Ультра\" также больше используют текстовые сообщения.\n",
    "\n",
    "**Интернет-трафик:** В среднем, пользователи тарифа \"Смарт\" потребляют 42.42 ГБ интернет-трафика, что значительно превышает лимит в 15 ГБ. В то время как пользователи \"Ультра\" в среднем используют 38.16 ГБ, что также близко к лимиту в 30 ГБ.\n",
    "\n",
    "На основании проведенного анализа видно, что пользователи тарифа \"Ультра\" имеют более высокие средние значения по количеству минут и сообщений, что может говорить о более активном использовании услуг связи (но по большей части в пределах лимита). Однако, пользователи тарифа \"Смарт\" сталкиваются с высоким уровнем перерасхода, особенно по интернет-трафику, что приводит к дополнительным затратам. "
   ]
  },
  {
   "cell_type": "markdown",
   "id": "f8537758",
   "metadata": {},
   "source": [
    "### 2.2 Построение гистограмм для визуализации распределений"
   ]
  },
  {
   "cell_type": "code",
   "execution_count": 40,
   "id": "81f34870",
   "metadata": {
    "ExecuteTime": {
     "end_time": "2024-10-09T14:55:55.545481Z",
     "start_time": "2024-10-09T14:55:54.481818Z"
    },
    "scrolled": false
   },
   "outputs": [
    {
     "data": {
      "image/png": "[encoded data removed]",
      "text/plain": [
       "<Figure size 1000x600 with 1 Axes>"
      ]
     },
     "metadata": {},
     "output_type": "display_data"
    },
    {
     "data": {
      "image/png": "[encoded data removed]",
      "text/plain": [
       "<Figure size 1000x600 with 1 Axes>"
      ]
     },
     "metadata": {},
     "output_type": "display_data"
    },
    {
     "data": {
      "image/png": "[encoded data removed]",
      "text/plain": [
       "<Figure size 1000x600 with 1 Axes>"
      ]
     },
     "metadata": {},
     "output_type": "display_data"
    },
    {
     "data": {
      "image/png": "[encoded data removed]",
      "text/plain": [
       "<Figure size 1000x600 with 1 Axes>"
      ]
     },
     "metadata": {},
     "output_type": "display_data"
    },
    {
     "data": {
      "image/png": "[encoded data removed]",
      "text/plain": [
       "<Figure size 1000x600 with 1 Axes>"
      ]
     },
     "metadata": {},
     "output_type": "display_data"
    },
    {
     "data": {
      "image/png": "[encoded data removed]",
      "text/plain": [
       "<Figure size 1000x600 with 1 Axes>"
      ]
     },
     "metadata": {},
     "output_type": "display_data"
    }
   ],
   "source": [
    "# функция для построения гистограммы\n",
    "def plot_histogram(data, feature, title, xlabel):\n",
    "    plt.figure(figsize=(10,6))\n",
    "    plt.hist(data[feature], bins=20, alpha=0.7, color='green')\n",
    "    plt.title(title)\n",
    "    plt.xlabel(xlabel)\n",
    "    plt.ylabel('Пользователи')\n",
    "    plt.grid(True)\n",
    "    plt.show()\n",
    "    \n",
    "plot_histogram(smart, 'minutes', 'Распределение минут для тарифа \"Смарт\"', 'Количество минут')\n",
    "plot_histogram(smart, 'messages', 'Распределение сообщений для тарифа \"Смарт\"', 'Количество сообщений')\n",
    "plot_histogram(smart, 'gb_used', 'Распределение интернет-трафика для тарифа \"Смарт\"', 'Гигабайты')\n",
    "\n",
    "plot_histogram(ultra, 'minutes', 'Распределение минут для тарифа \"Ультра\"', 'Количество минут')\n",
    "plot_histogram(ultra, 'messages', 'Распределение сообщений для тарифа \"Ультра\"', 'Количество сообщений')\n",
    "plot_histogram(ultra, 'gb_used', 'Распределение интернет-трафика для тарифа \"Ультра\"', 'Гигабайты')"
   ]
  },
  {
   "cell_type": "markdown",
   "id": "0566c548",
   "metadata": {},
   "source": [
    "### 2.3 Описание распределений"
   ]
  },
  {
   "cell_type": "markdown",
   "id": "2caa12bf",
   "metadata": {},
   "source": [
    "На основе полученных данных и гистограмм, можно сделать следующие выводы:\n",
    "\n",
    "1. **Тариф «Смарт»:**\n",
    "\n",
    "- *Среднее количество минут:* Для тарифа \"Смарт\" гистограмма имеет правостороннюю асимметрию. Большая часть клиентов использует количество минут близкое к включенному лимиту (500 минут), но число пользователей выходит за рамки этого лимита, что приводит к увеличению выручки. Это видно по \"хвосту\" распределения, который вытянут вправо.\n",
    "- *Среднее количество сообщений:* На гистограмме для тарифа \"Смарт\" также присутствует правосторонняя асимметрия, так как пользователи часто не достигают включенных 50 сообщений, но некоторые выходят за пределы этого лимита, увеличивая расходы на дополнительные сообщения.\n",
    "- *Среднее потребление интернет-трафика:* Пользователи тарифа \"Смарт\" активно превышают лимит в 15 Гб, что приводит к правосторонней асимметрии. Пользователи тарифа \"Смарт\" потребляют в среднем около 40-45 ГБ трафика. Часть клиентов регулярно доплачивает за дополнительные гигабайты, что отражается в вытянутом хвосте гистограммы.\n",
    "\n",
    "2. **Тариф «Ультра»:**\n",
    "\n",
    "- *Среднее количество минут:* Для тарифа \"Ультра\" распределение более концентрировано около среднего значения. Поскольку включено 3000 минут, большинство пользователей не использует это количество, оставаясь в пределах предоставленных минут. Это делает распределение более узким и симметричным.\n",
    "- *Среднее количество сообщений:* Количество отправленных сообщений (в среднем около 60 сообщений в месяц, а также больше 250 пользователей вообще не пользуются сообщениями) значительно ниже лимита в 1000 сообщений.\n",
    "- *Среднее потребление интернет-трафика:* Пользователи потребляют в среднем около 40 ГБ трафика, что выше лимита тарифа (30 ГБ)."
   ]
  },
  {
   "cell_type": "markdown",
   "id": "e27d855a",
   "metadata": {},
   "source": [
    "**Вывод по 2 шагу:**\n",
    "\n",
    "Для пользователей тарифа \"Смарт\" наблюдается значительная вариативность в использовании минут, сообщений и интернет-трафика. Среднее использование минут часто превышает лимит, что приводит к дополнительным расходам и, соответственно, повышению месячной выручки.\n",
    "\n",
    "Пользователи тарифа \"Ультра\" чаще остаются в рамках включённого пакета, так как лимиты более щедрые. Однако при перерасходе интернет-трафика выручка возрастает, но таких случаев меньше по сравнению с тарифом \"Смарт\"."
   ]
  },
  {
   "cell_type": "markdown",
   "id": "955f1bbc",
   "metadata": {},
   "source": [
    " "
   ]
  },
  {
   "cell_type": "markdown",
   "id": "70683335",
   "metadata": {},
   "source": [
    " "
   ]
  },
  {
   "cell_type": "markdown",
   "id": "dbebcec5",
   "metadata": {},
   "source": [
    "## 3 шаг. Проверка гипотез"
   ]
  },
  {
   "cell_type": "markdown",
   "id": "76b32901",
   "metadata": {},
   "source": [
    "### Гипотеза 1:\n",
    "- средняя выручка пользователей тарифов «Ультра» и «Смарт» различаются"
   ]
  },
  {
   "cell_type": "markdown",
   "id": "18d21c78",
   "metadata": {},
   "source": [
    "**H0:** Средняя выручка пользователей тарифов одинакова\n",
    "\n",
    "**H1:** Средняя выручка пользователей тарифов различается"
   ]
  },
  {
   "cell_type": "markdown",
   "id": "69cb064e",
   "metadata": {},
   "source": [
    "Критичиский уровень значимости установим в 5%. Если p-value будет меньше критического уровня вероятности, то нулевую гипотезу о равенстве отвергнем. В ином случае, данные не позволили отвергнуть нулевую гипотезу."
   ]
  },
  {
   "cell_type": "code",
   "execution_count": 41,
   "id": "05a78ca0",
   "metadata": {
    "ExecuteTime": {
     "end_time": "2024-10-09T14:55:56.938814Z",
     "start_time": "2024-10-09T14:55:56.932794Z"
    }
   },
   "outputs": [
    {
     "name": "stdout",
     "output_type": "stream",
     "text": [
      "p-value: 1.0108079993894959e-119\n",
      "Отвергаем нулевую гипотезу: средняя выручка различается\n"
     ]
    }
   ],
   "source": [
    "# годовая выручка пользователей тарифа Смарт\n",
    "smart_revenue = smart['yearly_revenue']\n",
    "\n",
    "# годовая выручка пользователей тарифа Ультра\n",
    "ultra_revenue = ultra['yearly_revenue']\n",
    "\n",
    "# t-тест для независимых выборок\n",
    "alpha = 0.05\n",
    "results = stats.ttest_ind(smart_revenue, ultra_revenue, equal_var=False)\n",
    "\n",
    "print('p-value:', results.pvalue)\n",
    "\n",
    "if results.pvalue < alpha:\n",
    "    print(\"Отвергаем нулевую гипотезу: средняя выручка различается\")\n",
    "else:\n",
    "    print(\"Не отвергаем нулевую гипотезу: средняя выручка не различается\")"
   ]
  },
  {
   "cell_type": "code",
   "execution_count": 42,
   "id": "86f0b9ec",
   "metadata": {
    "ExecuteTime": {
     "end_time": "2024-10-09T14:55:57.461016Z",
     "start_time": "2024-10-09T14:55:57.231163Z"
    }
   },
   "outputs": [
    {
     "data": {
      "image/png": "[encoded data removed]",
      "text/plain": [
       "<Figure size 1500x500 with 1 Axes>"
      ]
     },
     "metadata": {},
     "output_type": "display_data"
    }
   ],
   "source": [
    "# график распределения по тарифам за год\n",
    "fig, ax = plt.subplots(figsize=(15, 5))\n",
    "ax.hist(smart['yearly_revenue'], 30, alpha=0.5, label='Smart')\n",
    "ax.hist(ultra['yearly_revenue'], 30, alpha=0.5, label='Ultra')\n",
    "plt.title('Затраты за год')\n",
    "plt.xlabel('Затраты, руб')\n",
    "plt.ylabel('Пользователи')\n",
    "plt.legend(loc='upper right')\n",
    "plt.ticklabel_format(style='plain')\n",
    "plt.show()"
   ]
  },
  {
   "cell_type": "code",
   "execution_count": 43,
   "id": "c026eac8",
   "metadata": {
    "ExecuteTime": {
     "end_time": "2024-10-09T14:55:57.515202Z",
     "start_time": "2024-10-09T14:55:57.508227Z"
    }
   },
   "outputs": [
    {
     "name": "stdout",
     "output_type": "stream",
     "text": [
      "p-value: 3.366123216919074e-132\n",
      "Отвергаем нулевую гипотезу: средняя выручка различается\n"
     ]
    }
   ],
   "source": [
    "# месячная выручка пользователей тарифа Смарт\n",
    "smart_revenue = smart['monthly_revenue']\n",
    "\n",
    "# месячная выручка пользователей тарифа Ультра\n",
    "ultra_revenue = ultra['monthly_revenue']\n",
    "\n",
    "# t-тест для независимых выборок\n",
    "alpha = 0.05\n",
    "results = stats.ttest_ind(smart_revenue, ultra_revenue, equal_var=False)\n",
    "\n",
    "print('p-value:', results.pvalue)\n",
    "\n",
    "if results.pvalue < alpha:\n",
    "    print(\"Отвергаем нулевую гипотезу: средняя выручка различается\")\n",
    "else:\n",
    "    print(\"Не отвергаем нулевую гипотезу: средняя выручка не различается\")"
   ]
  },
  {
   "cell_type": "code",
   "execution_count": 44,
   "id": "e9521fcc",
   "metadata": {
    "ExecuteTime": {
     "end_time": "2024-10-09T14:55:58.047307Z",
     "start_time": "2024-10-09T14:55:57.810005Z"
    },
    "scrolled": true
   },
   "outputs": [
    {
     "data": {
      "image/png": "[encoded data removed]",
      "text/plain": [
       "<Figure size 1500x500 with 1 Axes>"
      ]
     },
     "metadata": {},
     "output_type": "display_data"
    }
   ],
   "source": [
    "# график распределения по тарифам за месяц\n",
    "fig, ax = plt.subplots(figsize=(15, 5))\n",
    "ax.hist(smart['monthly_revenue'], 30, alpha=0.5, label='Smart')\n",
    "ax.hist(ultra['monthly_revenue'], 30, alpha=0.5, label='Ultra')\n",
    "plt.title('Затраты за месяц')\n",
    "plt.xlabel('Затраты, руб')\n",
    "plt.ylabel('Пользователи')\n",
    "plt.legend(loc='upper right')\n",
    "plt.ticklabel_format(style='plain')\n",
    "plt.show()"
   ]
  },
  {
   "cell_type": "markdown",
   "id": "6f8e7adc",
   "metadata": {},
   "source": [
    "Проверим ещё гипотезу:\n",
    "\n",
    "**H0:** Средняя выручка пользователей тарифов одинакова\n",
    "\n",
    "**H1:** Средняя выручка пользователей тарифа \"Смарт\" больше, чем тарифа \"Ультра\""
   ]
  },
  {
   "cell_type": "code",
   "execution_count": 45,
   "id": "136006f4",
   "metadata": {
    "ExecuteTime": {
     "end_time": "2024-10-09T14:55:58.652697Z",
     "start_time": "2024-10-09T14:55:58.646103Z"
    }
   },
   "outputs": [
    {
     "name": "stdout",
     "output_type": "stream",
     "text": [
      "p-value: 1.683061608459537e-132\n",
      "Отвергаем нулевую гипотезу: средняя выручка тарифа 'Смарт' больше\n"
     ]
    }
   ],
   "source": [
    "# месячная выручка пользователей тарифа Смарт\n",
    "smart_revenue = smart['monthly_revenue']\n",
    "\n",
    "# месячная выручка пользователей тарифа Ультра\n",
    "ultra_revenue = ultra['monthly_revenue']\n",
    "\n",
    "# t-тест односторонний\n",
    "alpha = 0.05\n",
    "results = stats.ttest_ind(smart_revenue, ultra_revenue, equal_var=False)\n",
    "\n",
    "print('p-value:', results.pvalue / 2)\n",
    "\n",
    "# тест односторонний влево:\n",
    "# отвергаем гипотезу только если выборочное среднее значимо меньше предполагаемого значения\n",
    "if (results.pvalue / 2 < alpha) and (smart_revenue.mean() > ultra_revenue.mean()):\n",
    "    print(\"Отвергаем нулевую гипотезу: средняя выручка тарифа 'Смарт' больше\")\n",
    "else:\n",
    "    print(\"Не отвергаем нулевую гипотезу: средняя выручка одинакова\")"
   ]
  },
  {
   "cell_type": "markdown",
   "id": "32bf932a",
   "metadata": {},
   "source": [
    "### Гипотеза 2:\n",
    "- средняя выручка пользователей из Москвы отличается от выручки пользователей из других регионов"
   ]
  },
  {
   "cell_type": "markdown",
   "id": "b26915ca",
   "metadata": {},
   "source": [
    "**H0:** Средняя выручка пользователей из Москвы и других регионов одинакова\n",
    "\n",
    "**H1:** Средняя выручка пользователей из Москвы отличается от выручки пользователей из других регионов."
   ]
  },
  {
   "cell_type": "markdown",
   "id": "e49c2d00",
   "metadata": {},
   "source": [
    "Критичиский уровень значимости установим в 5%. Если p-value будет меньше критического уровня вероятности, то нулевую гипотезу о равенстве отвергнем. В ином случае, данные не позволили отвергнуть нулевую гипотезу."
   ]
  },
  {
   "cell_type": "code",
   "execution_count": 46,
   "id": "4cb2d244",
   "metadata": {
    "ExecuteTime": {
     "end_time": "2024-10-09T14:56:00.500958Z",
     "start_time": "2024-10-09T14:56:00.491095Z"
    }
   },
   "outputs": [
    {
     "name": "stdout",
     "output_type": "stream",
     "text": [
      "p-value: 0.18115193559827075\n",
      "Не отвергаем нулевую гипотезу: средняя выручка не отличается\n"
     ]
    }
   ],
   "source": [
    "# годовая выручка пользователей из Москвы\n",
    "moscow_revenue = data[data['city'] == 'Москва']['yearly_revenue']\n",
    "\n",
    "# годовая выручка пользователей из других регионов\n",
    "other_revenue = data[data['city'] != 'Москва']['yearly_revenue']\n",
    "\n",
    "# t-тест для независимых выборок\n",
    "alpha = 0.05\n",
    "results = stats.ttest_ind(moscow_revenue, other_revenue, equal_var=False)\n",
    "\n",
    "print('p-value:', results.pvalue)\n",
    "\n",
    "if results.pvalue < alpha:\n",
    "    print(\"Отвергаем нулевую гипотезу: средняя выручка отличается\")\n",
    "else:\n",
    "    print(\"Не отвергаем нулевую гипотезу: средняя выручка не отличается\")"
   ]
  },
  {
   "cell_type": "code",
   "execution_count": 47,
   "id": "13f2c62b",
   "metadata": {
    "ExecuteTime": {
     "end_time": "2024-10-09T14:56:00.917364Z",
     "start_time": "2024-10-09T14:56:00.691442Z"
    }
   },
   "outputs": [
    {
     "data": {
      "image/png": "[encoded data removed]",
      "text/plain": [
       "<Figure size 1500x500 with 1 Axes>"
      ]
     },
     "metadata": {},
     "output_type": "display_data"
    }
   ],
   "source": [
    "# график распределения по местонахождению за год\n",
    "fig, ax = plt.subplots(figsize=(15, 5))\n",
    "ax.hist(data[data['city'] == 'Москва']['yearly_revenue'], 30, alpha=0.5, label='Москва', density=True)\n",
    "ax.hist(data[data['city'] != 'Москва']['yearly_revenue'], 30, alpha=0.5, label='Остальные города', density=True)\n",
    "plt.title('Затраты за год')\n",
    "plt.xlabel('Затраты, руб')\n",
    "plt.ylabel('Пользователи')\n",
    "plt.legend(loc='upper right')\n",
    "plt.ticklabel_format(style='plain')\n",
    "plt.show()"
   ]
  },
  {
   "cell_type": "code",
   "execution_count": 48,
   "id": "d118f2be",
   "metadata": {
    "ExecuteTime": {
     "end_time": "2024-10-09T14:56:00.929819Z",
     "start_time": "2024-10-09T14:56:00.920376Z"
    }
   },
   "outputs": [
    {
     "name": "stdout",
     "output_type": "stream",
     "text": [
      "p-value: 0.25438147756433427\n",
      "Не отвергаем нулевую гипотезу: средняя выручка не отличается\n"
     ]
    }
   ],
   "source": [
    "# месячная выручка пользователей из Москвы\n",
    "moscow_revenue = data[data['city'] == 'Москва']['monthly_revenue']\n",
    "\n",
    "# месячная выручка пользователей из других регионов\n",
    "other_revenue = data[data['city'] != 'Москва']['monthly_revenue']\n",
    "\n",
    "# t-тест для независимых выборок\n",
    "alpha = 0.05\n",
    "results = stats.ttest_ind(moscow_revenue, other_revenue, equal_var=False)\n",
    "\n",
    "print('p-value:', results.pvalue)\n",
    "\n",
    "if results.pvalue < alpha:\n",
    "    print(\"Отвергаем нулевую гипотезу: средняя выручка отличается\")\n",
    "else:\n",
    "    print(\"Не отвергаем нулевую гипотезу: средняя выручка не отличается\")"
   ]
  },
  {
   "cell_type": "code",
   "execution_count": 49,
   "id": "bcb1bcd6",
   "metadata": {
    "ExecuteTime": {
     "end_time": "2024-10-09T14:56:01.305553Z",
     "start_time": "2024-10-09T14:56:01.068300Z"
    }
   },
   "outputs": [
    {
     "data": {
      "image/png": "[encoded data removed]",
      "text/plain": [
       "<Figure size 1500x500 with 1 Axes>"
      ]
     },
     "metadata": {},
     "output_type": "display_data"
    }
   ],
   "source": [
    "# график распределения по местонахождению за месяц\n",
    "fig, ax = plt.subplots(figsize=(15, 5))\n",
    "ax.hist(data[data['city'] == 'Москва']['monthly_revenue'], 30, alpha=0.5, label='Москва', density=True)\n",
    "ax.hist(data[data['city'] != 'Москва']['monthly_revenue'], 30, alpha=0.5, label='Остальные города', density=True)\n",
    "plt.title('Затраты за месяц')\n",
    "plt.xlabel('Затраты, руб')\n",
    "plt.ylabel('Пользователи')\n",
    "plt.legend(loc='upper right')\n",
    "plt.ticklabel_format(style='plain')\n",
    "plt.show()"
   ]
  },
  {
   "cell_type": "markdown",
   "id": "2a65c754",
   "metadata": {},
   "source": [
    "**Вывод по 3 шагу:**\n",
    "\n",
    "*1 гипотеза:* Мы верно отвегли нулевую гипотезу, так как видно нашими графиками распределения, что средняя выручка по тарифам действительно **различается**. По дополнительной проверке мы также узнали, что именно выручка с тарифа \"Смарт\" больше.\n",
    "\n",
    "*2 гипотеза:* Средняя выручка в зависимости из Москвы пользователь или из другого города **не отличается**, как видим по графикам действительно они почти схожи.\n",
    "\n",
    "На основе проведенных тестов по данным из нашей выборке из 500 пользователей нельзя сделать однозначный вывод. Для более точного анализа необходимо изучить большее количество пользователей."
   ]
  },
  {
   "cell_type": "markdown",
   "id": "2d9174ff",
   "metadata": {},
   "source": [
    " "
   ]
  },
  {
   "cell_type": "markdown",
   "id": "86318c5f",
   "metadata": {},
   "source": [
    " "
   ]
  },
  {
   "cell_type": "markdown",
   "id": "fcfd3bb9",
   "metadata": {},
   "source": [
    "## Вывод"
   ]
  },
  {
   "cell_type": "markdown",
   "id": "e7482db2",
   "metadata": {},
   "source": [
    "Для анализа поведения клиентов и определения лучшего тарифа мы рассмотрели следующие параметры:\n",
    "\n",
    "**Среднее количество минут, сообщений и интернет-трафика:**\n",
    "\n",
    "- Пользователи тарифа \"Смарт\" в среднем использовали 417 минут, 33 сообщения и 42 Гб трафика в месяц.\n",
    "- Пользователи тарифа \"Ультра\" использовали в среднем 526 минут, 49 сообщений и 38 Гб трафика.\n",
    "\n",
    "**Перерасход лимитов:**\n",
    "\n",
    "- У пользователей тарифа \"Смарт\" часто наблюдается перерасход включённых минут, сообщений и интернет-трафика, что приводит к дополнительным расходам.\n",
    "- Пользователи тарифа \"Ультра\" реже выходят за пределы включённых лимитов, благодаря более щедрым условиям тарифа.\n",
    "\n",
    "**Выручка:**\n",
    "\n",
    "- Средняя месячная выручка с пользователей тарифа \"Смарт\" выше из-за частого превышения лимитов, что приводит к дополнительным начислениям.\n",
    "- Несмотря на высокую абонентскую плату тарифа \"Ультра\", пользователи этого тарифа реже платят за дополнительные услуги."
   ]
  },
  {
   "cell_type": "markdown",
   "id": "16302cb1",
   "metadata": {},
   "source": [
    "**Заключение:**\n",
    "\n",
    "Тариф \"Смарт\" приносит больше дохода из-за частого перерасхода включённых услуг. Однако для пользователей, которые регулярно перерасходуют лимиты, тариф \"Ультра\" может быть выгоднее и комфортнее. Окончательный выбор тарифа зависит от стратегии компании: если цель — максимизация дохода, то можно стимулировать использование тарифа \"Смарт\", но для повышения удовлетворённости клиентов можно рекомендовать переход на \"Ультра\" тем, кто часто перерасходует лимиты."
   ]
  }
 ],
 "metadata": {
  "kernelspec": {
   "display_name": "Python 3 (ipykernel)",
   "language": "python",
   "name": "python3"
  },
  "language_info": {
   "codemirror_mode": {
    "name": "ipython",
    "version": 3
   },
   "file_extension": ".py",
   "mimetype": "text/x-python",
   "name": "python",
   "nbconvert_exporter": "python",
   "pygments_lexer": "ipython3",
   "version": "3.11.7"
  },
  "toc": {
   "base_numbering": 1,
   "nav_menu": {},
   "number_sections": true,
   "sideBar": true,
   "skip_h1_title": false,
   "title_cell": "Table of Contents",
   "title_sidebar": "Contents",
   "toc_cell": false,
   "toc_position": {},
   "toc_section_display": true,
   "toc_window_display": false
  }
 },
 "nbformat": 4,
 "nbformat_minor": 5
}
